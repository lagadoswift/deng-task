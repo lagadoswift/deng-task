{
 "cells": [
  {
   "cell_type": "markdown",
   "metadata": {
    "id": "lw8RcyH73SEi"
   },
   "source": [
    "# EDA"
   ]
  },
  {
   "cell_type": "markdown",
   "metadata": {
    "id": "4hkNQnqk3fv8"
   },
   "source": [
    "# 0 Import of libraries"
   ]
  },
  {
   "cell_type": "code",
   "execution_count": 1,
   "metadata": {},
   "outputs": [
    {
     "name": "stdout",
     "output_type": "stream",
     "text": [
      "Requirement already satisfied: pandas in c:\\users\\пользователь\\desktop\\deng-task\\venv\\lib\\site-packages (2.3.2)\n",
      "Requirement already satisfied: seaborn in c:\\users\\пользователь\\desktop\\deng-task\\venv\\lib\\site-packages (0.13.2)\n",
      "Requirement already satisfied: matplotlib in c:\\users\\пользователь\\desktop\\deng-task\\venv\\lib\\site-packages (3.10.7)\n",
      "Requirement already satisfied: plotly in c:\\users\\пользователь\\desktop\\deng-task\\venv\\lib\\site-packages (6.3.1)\n",
      "Requirement already satisfied: numpy>=1.26.0 in c:\\users\\пользователь\\desktop\\deng-task\\venv\\lib\\site-packages (from pandas) (2.3.3)\n",
      "Requirement already satisfied: python-dateutil>=2.8.2 in c:\\users\\пользователь\\desktop\\deng-task\\venv\\lib\\site-packages (from pandas) (2.9.0.post0)\n",
      "Requirement already satisfied: pytz>=2020.1 in c:\\users\\пользователь\\desktop\\deng-task\\venv\\lib\\site-packages (from pandas) (2025.2)\n",
      "Requirement already satisfied: tzdata>=2022.7 in c:\\users\\пользователь\\desktop\\deng-task\\venv\\lib\\site-packages (from pandas) (2025.2)\n",
      "Requirement already satisfied: contourpy>=1.0.1 in c:\\users\\пользователь\\desktop\\deng-task\\venv\\lib\\site-packages (from matplotlib) (1.3.3)\n",
      "Requirement already satisfied: cycler>=0.10 in c:\\users\\пользователь\\desktop\\deng-task\\venv\\lib\\site-packages (from matplotlib) (0.12.1)\n",
      "Requirement already satisfied: fonttools>=4.22.0 in c:\\users\\пользователь\\desktop\\deng-task\\venv\\lib\\site-packages (from matplotlib) (4.60.1)\n",
      "Requirement already satisfied: kiwisolver>=1.3.1 in c:\\users\\пользователь\\desktop\\deng-task\\venv\\lib\\site-packages (from matplotlib) (1.4.9)\n",
      "Requirement already satisfied: packaging>=20.0 in c:\\users\\пользователь\\desktop\\deng-task\\venv\\lib\\site-packages (from matplotlib) (25.0)\n",
      "Requirement already satisfied: pillow>=8 in c:\\users\\пользователь\\desktop\\deng-task\\venv\\lib\\site-packages (from matplotlib) (12.0.0)\n",
      "Requirement already satisfied: pyparsing>=3 in c:\\users\\пользователь\\desktop\\deng-task\\venv\\lib\\site-packages (from matplotlib) (3.2.5)\n",
      "Requirement already satisfied: narwhals>=1.15.1 in c:\\users\\пользователь\\desktop\\deng-task\\venv\\lib\\site-packages (from plotly) (2.9.0)\n",
      "Requirement already satisfied: six>=1.5 in c:\\users\\пользователь\\desktop\\deng-task\\venv\\lib\\site-packages (from python-dateutil>=2.8.2->pandas) (1.17.0)\n",
      "Note: you may need to restart the kernel to use updated packages.\n"
     ]
    },
    {
     "name": "stderr",
     "output_type": "stream",
     "text": [
      "\n",
      "[notice] A new release of pip is available: 25.1.1 -> 25.3\n",
      "[notice] To update, run: python.exe -m pip install --upgrade pip\n"
     ]
    }
   ],
   "source": [
    "%pip install pandas\\\n",
    "seaborn\\\n",
    "matplotlib\\\n",
    "plotly"
   ]
  },
  {
   "cell_type": "code",
   "execution_count": 2,
   "metadata": {
    "id": "NsLOVgsa3Osl"
   },
   "outputs": [],
   "source": [
    "import pandas as pd\n",
    "import seaborn as sns\n",
    "import matplotlib.pyplot as plt\n",
    "import plotly.express as px"
   ]
  },
  {
   "cell_type": "markdown",
   "metadata": {
    "id": "sAT3QRV03mne"
   },
   "source": [
    "# 1 Dataset import"
   ]
  },
  {
   "cell_type": "code",
   "execution_count": 3,
   "metadata": {
    "colab": {
     "base_uri": "https://localhost:8080/"
    },
    "collapsed": true,
    "id": "DWOuiIVj3mGz",
    "outputId": "477b1944-60b2-4e92-e8ca-c887a7d4fac9"
   },
   "outputs": [
    {
     "name": "stdout",
     "output_type": "stream",
     "text": [
      "             Timestamp  Reactor_Temperature  Regenerator_Temperature  \\\n",
      "0  2025-01-01 00:00:00               536.13                   650.96   \n",
      "1  2025-01-01 00:05:00               548.61                   743.60   \n",
      "2  2025-01-01 00:10:00               558.24                   694.41   \n",
      "3  2025-01-01 00:15:00               521.42                   707.24   \n",
      "4  2025-01-01 00:20:00               554.45                   731.65   \n",
      "\n",
      "   Reactor_Pressure  Feed_Flow_Rate  Catalyst_to_Oil_Ratio  Catalyst_Activity  \\\n",
      "0            169.93           84.85                   5.31              92.56   \n",
      "1            162.86           95.56                   5.81              73.81   \n",
      "2            199.85           55.34                   4.42              87.44   \n",
      "3            155.62           71.16                   5.55              74.76   \n",
      "4            223.78          101.43                   5.21              83.96   \n",
      "\n",
      "   Air_Flow_Rate  Fractionator_Top_Temp  Fractionator_Bottom_Temp  ...  \\\n",
      "0       60143.25                 174.59                    326.33  ...   \n",
      "1       56238.22                 179.14                    300.26  ...   \n",
      "2       53535.07                 199.81                    301.84  ...   \n",
      "3       61834.69                 191.75                    339.07  ...   \n",
      "4       58353.17                 159.02                    331.24  ...   \n",
      "\n",
      "   Product_Yield  Conversion_Rate  Energy_Consumption  Emissions_NOx  \\\n",
      "0          48.26            86.51              121.73         141.28   \n",
      "1          44.58            73.83              105.73          81.04   \n",
      "2          41.72            80.85              187.02          50.12   \n",
      "3          48.76            76.99              155.12          89.15   \n",
      "4          44.34            89.92              137.94          51.40   \n",
      "\n",
      "   Emissions_SOx  Control_Stability_Index  Reward_Score  Feed_Change_Event  \\\n",
      "0          18.04                     0.98         0.321                  0   \n",
      "1          52.43                     0.90         0.385                  0   \n",
      "2          36.62                     0.93         0.371                  1   \n",
      "3          58.08                     0.80         0.347                  0   \n",
      "4          18.67                     0.99         0.332                  0   \n",
      "\n",
      "   Catalyst_Replacement  External_Disturbance_Type  \n",
      "0                     0                        NaN  \n",
      "1                     0                        NaN  \n",
      "2                     0                        NaN  \n",
      "3                     0                        NaN  \n",
      "4                     0         AirFlowFluctuation  \n",
      "\n",
      "[5 rows x 27 columns]\n"
     ]
    }
   ],
   "source": [
    "url = \"https://drive.google.com/uc?id=1dTauyYXM4FfCyeFgc6jAS9XtkjTdfsVt\"\n",
    "\n",
    "df = pd.read_csv(url)\n",
    "\n",
    "print(df.head())"
   ]
  },
  {
   "cell_type": "code",
   "execution_count": 4,
   "metadata": {
    "colab": {
     "base_uri": "https://localhost:8080/",
     "height": 478
    },
    "id": "xIpUyWb031AF",
    "outputId": "0274d031-a8c2-43fa-cb8b-b16ec4c0438e"
   },
   "outputs": [
    {
     "name": "stdout",
     "output_type": "stream",
     "text": [
      "Total number of rows: 1300\n"
     ]
    },
    {
     "data": {
      "text/html": [
       "<div>\n",
       "<style scoped>\n",
       "    .dataframe tbody tr th:only-of-type {\n",
       "        vertical-align: middle;\n",
       "    }\n",
       "\n",
       "    .dataframe tbody tr th {\n",
       "        vertical-align: top;\n",
       "    }\n",
       "\n",
       "    .dataframe thead th {\n",
       "        text-align: right;\n",
       "    }\n",
       "</style>\n",
       "<table border=\"1\" class=\"dataframe\">\n",
       "  <thead>\n",
       "    <tr style=\"text-align: right;\">\n",
       "      <th></th>\n",
       "      <th>Timestamp</th>\n",
       "      <th>Reactor_Temperature</th>\n",
       "      <th>Regenerator_Temperature</th>\n",
       "      <th>Reactor_Pressure</th>\n",
       "      <th>Feed_Flow_Rate</th>\n",
       "      <th>Catalyst_to_Oil_Ratio</th>\n",
       "      <th>Catalyst_Activity</th>\n",
       "      <th>Air_Flow_Rate</th>\n",
       "      <th>Fractionator_Top_Temp</th>\n",
       "      <th>Fractionator_Bottom_Temp</th>\n",
       "      <th>...</th>\n",
       "      <th>Product_Yield</th>\n",
       "      <th>Conversion_Rate</th>\n",
       "      <th>Energy_Consumption</th>\n",
       "      <th>Emissions_NOx</th>\n",
       "      <th>Emissions_SOx</th>\n",
       "      <th>Control_Stability_Index</th>\n",
       "      <th>Reward_Score</th>\n",
       "      <th>Feed_Change_Event</th>\n",
       "      <th>Catalyst_Replacement</th>\n",
       "      <th>External_Disturbance_Type</th>\n",
       "    </tr>\n",
       "  </thead>\n",
       "  <tbody>\n",
       "    <tr>\n",
       "      <th>count</th>\n",
       "      <td>1300</td>\n",
       "      <td>1300.000000</td>\n",
       "      <td>1300.000000</td>\n",
       "      <td>1300.000000</td>\n",
       "      <td>1300.000000</td>\n",
       "      <td>1300.000000</td>\n",
       "      <td>1300.000000</td>\n",
       "      <td>1300.000000</td>\n",
       "      <td>1300.000000</td>\n",
       "      <td>1300.0000</td>\n",
       "      <td>...</td>\n",
       "      <td>1300.000000</td>\n",
       "      <td>1300.000000</td>\n",
       "      <td>1300.000000</td>\n",
       "      <td>1300.000000</td>\n",
       "      <td>1300.000000</td>\n",
       "      <td>1300.000000</td>\n",
       "      <td>1300.000000</td>\n",
       "      <td>1300.000000</td>\n",
       "      <td>1300.000000</td>\n",
       "      <td>179</td>\n",
       "    </tr>\n",
       "    <tr>\n",
       "      <th>unique</th>\n",
       "      <td>1300</td>\n",
       "      <td>NaN</td>\n",
       "      <td>NaN</td>\n",
       "      <td>NaN</td>\n",
       "      <td>NaN</td>\n",
       "      <td>NaN</td>\n",
       "      <td>NaN</td>\n",
       "      <td>NaN</td>\n",
       "      <td>NaN</td>\n",
       "      <td>NaN</td>\n",
       "      <td>...</td>\n",
       "      <td>NaN</td>\n",
       "      <td>NaN</td>\n",
       "      <td>NaN</td>\n",
       "      <td>NaN</td>\n",
       "      <td>NaN</td>\n",
       "      <td>NaN</td>\n",
       "      <td>NaN</td>\n",
       "      <td>NaN</td>\n",
       "      <td>NaN</td>\n",
       "      <td>2</td>\n",
       "    </tr>\n",
       "    <tr>\n",
       "      <th>top</th>\n",
       "      <td>2025-01-01 00:00:00</td>\n",
       "      <td>NaN</td>\n",
       "      <td>NaN</td>\n",
       "      <td>NaN</td>\n",
       "      <td>NaN</td>\n",
       "      <td>NaN</td>\n",
       "      <td>NaN</td>\n",
       "      <td>NaN</td>\n",
       "      <td>NaN</td>\n",
       "      <td>NaN</td>\n",
       "      <td>...</td>\n",
       "      <td>NaN</td>\n",
       "      <td>NaN</td>\n",
       "      <td>NaN</td>\n",
       "      <td>NaN</td>\n",
       "      <td>NaN</td>\n",
       "      <td>NaN</td>\n",
       "      <td>NaN</td>\n",
       "      <td>NaN</td>\n",
       "      <td>NaN</td>\n",
       "      <td>AirFlowFluctuation</td>\n",
       "    </tr>\n",
       "    <tr>\n",
       "      <th>freq</th>\n",
       "      <td>1</td>\n",
       "      <td>NaN</td>\n",
       "      <td>NaN</td>\n",
       "      <td>NaN</td>\n",
       "      <td>NaN</td>\n",
       "      <td>NaN</td>\n",
       "      <td>NaN</td>\n",
       "      <td>NaN</td>\n",
       "      <td>NaN</td>\n",
       "      <td>NaN</td>\n",
       "      <td>...</td>\n",
       "      <td>NaN</td>\n",
       "      <td>NaN</td>\n",
       "      <td>NaN</td>\n",
       "      <td>NaN</td>\n",
       "      <td>NaN</td>\n",
       "      <td>NaN</td>\n",
       "      <td>NaN</td>\n",
       "      <td>NaN</td>\n",
       "      <td>NaN</td>\n",
       "      <td>119</td>\n",
       "    </tr>\n",
       "    <tr>\n",
       "      <th>mean</th>\n",
       "      <td>NaN</td>\n",
       "      <td>520.510100</td>\n",
       "      <td>699.532977</td>\n",
       "      <td>200.553015</td>\n",
       "      <td>84.025392</td>\n",
       "      <td>5.991162</td>\n",
       "      <td>79.913246</td>\n",
       "      <td>65258.142446</td>\n",
       "      <td>175.644785</td>\n",
       "      <td>330.0192</td>\n",
       "      <td>...</td>\n",
       "      <td>49.751854</td>\n",
       "      <td>80.213031</td>\n",
       "      <td>150.502877</td>\n",
       "      <td>100.951138</td>\n",
       "      <td>35.289308</td>\n",
       "      <td>0.901092</td>\n",
       "      <td>0.370609</td>\n",
       "      <td>0.095385</td>\n",
       "      <td>0.043077</td>\n",
       "      <td>NaN</td>\n",
       "    </tr>\n",
       "    <tr>\n",
       "      <th>std</th>\n",
       "      <td>NaN</td>\n",
       "      <td>23.369177</td>\n",
       "      <td>28.990121</td>\n",
       "      <td>28.995807</td>\n",
       "      <td>19.792733</td>\n",
       "      <td>1.147160</td>\n",
       "      <td>11.554706</td>\n",
       "      <td>8520.480908</td>\n",
       "      <td>14.347916</td>\n",
       "      <td>17.6485</td>\n",
       "      <td>...</td>\n",
       "      <td>5.667837</td>\n",
       "      <td>5.739969</td>\n",
       "      <td>29.065612</td>\n",
       "      <td>29.967522</td>\n",
       "      <td>14.437791</td>\n",
       "      <td>0.058101</td>\n",
       "      <td>0.044152</td>\n",
       "      <td>0.293858</td>\n",
       "      <td>0.203108</td>\n",
       "      <td>NaN</td>\n",
       "    </tr>\n",
       "    <tr>\n",
       "      <th>min</th>\n",
       "      <td>NaN</td>\n",
       "      <td>480.060000</td>\n",
       "      <td>650.010000</td>\n",
       "      <td>150.110000</td>\n",
       "      <td>50.130000</td>\n",
       "      <td>4.000000</td>\n",
       "      <td>60.030000</td>\n",
       "      <td>50022.530000</td>\n",
       "      <td>150.160000</td>\n",
       "      <td>300.0600</td>\n",
       "      <td>...</td>\n",
       "      <td>40.020000</td>\n",
       "      <td>70.000000</td>\n",
       "      <td>100.180000</td>\n",
       "      <td>50.080000</td>\n",
       "      <td>10.060000</td>\n",
       "      <td>0.800000</td>\n",
       "      <td>0.247000</td>\n",
       "      <td>0.000000</td>\n",
       "      <td>0.000000</td>\n",
       "      <td>NaN</td>\n",
       "    </tr>\n",
       "    <tr>\n",
       "      <th>25%</th>\n",
       "      <td>NaN</td>\n",
       "      <td>501.237500</td>\n",
       "      <td>674.627500</td>\n",
       "      <td>175.600000</td>\n",
       "      <td>67.152500</td>\n",
       "      <td>5.000000</td>\n",
       "      <td>69.932500</td>\n",
       "      <td>57962.610000</td>\n",
       "      <td>163.497500</td>\n",
       "      <td>314.4875</td>\n",
       "      <td>...</td>\n",
       "      <td>44.887500</td>\n",
       "      <td>75.340000</td>\n",
       "      <td>125.137500</td>\n",
       "      <td>75.410000</td>\n",
       "      <td>22.992500</td>\n",
       "      <td>0.850000</td>\n",
       "      <td>0.340000</td>\n",
       "      <td>0.000000</td>\n",
       "      <td>0.000000</td>\n",
       "      <td>NaN</td>\n",
       "    </tr>\n",
       "    <tr>\n",
       "      <th>50%</th>\n",
       "      <td>NaN</td>\n",
       "      <td>520.740000</td>\n",
       "      <td>697.885000</td>\n",
       "      <td>201.130000</td>\n",
       "      <td>84.450000</td>\n",
       "      <td>5.960000</td>\n",
       "      <td>80.015000</td>\n",
       "      <td>65648.680000</td>\n",
       "      <td>175.615000</td>\n",
       "      <td>330.3000</td>\n",
       "      <td>...</td>\n",
       "      <td>49.540000</td>\n",
       "      <td>80.445000</td>\n",
       "      <td>150.065000</td>\n",
       "      <td>100.900000</td>\n",
       "      <td>35.190000</td>\n",
       "      <td>0.900000</td>\n",
       "      <td>0.371000</td>\n",
       "      <td>0.000000</td>\n",
       "      <td>0.000000</td>\n",
       "      <td>NaN</td>\n",
       "    </tr>\n",
       "    <tr>\n",
       "      <th>75%</th>\n",
       "      <td>NaN</td>\n",
       "      <td>541.877500</td>\n",
       "      <td>723.490000</td>\n",
       "      <td>225.982500</td>\n",
       "      <td>100.080000</td>\n",
       "      <td>6.990000</td>\n",
       "      <td>89.890000</td>\n",
       "      <td>72486.967500</td>\n",
       "      <td>187.870000</td>\n",
       "      <td>346.0125</td>\n",
       "      <td>...</td>\n",
       "      <td>54.515000</td>\n",
       "      <td>85.130000</td>\n",
       "      <td>175.740000</td>\n",
       "      <td>127.915000</td>\n",
       "      <td>47.832500</td>\n",
       "      <td>0.950000</td>\n",
       "      <td>0.401250</td>\n",
       "      <td>0.000000</td>\n",
       "      <td>0.000000</td>\n",
       "      <td>NaN</td>\n",
       "    </tr>\n",
       "    <tr>\n",
       "      <th>max</th>\n",
       "      <td>NaN</td>\n",
       "      <td>559.960000</td>\n",
       "      <td>749.750000</td>\n",
       "      <td>249.950000</td>\n",
       "      <td>119.880000</td>\n",
       "      <td>7.990000</td>\n",
       "      <td>99.930000</td>\n",
       "      <td>79948.410000</td>\n",
       "      <td>199.950000</td>\n",
       "      <td>359.9800</td>\n",
       "      <td>...</td>\n",
       "      <td>60.000000</td>\n",
       "      <td>89.980000</td>\n",
       "      <td>200.000000</td>\n",
       "      <td>149.930000</td>\n",
       "      <td>59.990000</td>\n",
       "      <td>1.000000</td>\n",
       "      <td>0.491000</td>\n",
       "      <td>1.000000</td>\n",
       "      <td>1.000000</td>\n",
       "      <td>NaN</td>\n",
       "    </tr>\n",
       "  </tbody>\n",
       "</table>\n",
       "<p>11 rows × 27 columns</p>\n",
       "</div>"
      ],
      "text/plain": [
       "                  Timestamp  Reactor_Temperature  Regenerator_Temperature  \\\n",
       "count                  1300          1300.000000              1300.000000   \n",
       "unique                 1300                  NaN                      NaN   \n",
       "top     2025-01-01 00:00:00                  NaN                      NaN   \n",
       "freq                      1                  NaN                      NaN   \n",
       "mean                    NaN           520.510100               699.532977   \n",
       "std                     NaN            23.369177                28.990121   \n",
       "min                     NaN           480.060000               650.010000   \n",
       "25%                     NaN           501.237500               674.627500   \n",
       "50%                     NaN           520.740000               697.885000   \n",
       "75%                     NaN           541.877500               723.490000   \n",
       "max                     NaN           559.960000               749.750000   \n",
       "\n",
       "        Reactor_Pressure  Feed_Flow_Rate  Catalyst_to_Oil_Ratio  \\\n",
       "count        1300.000000     1300.000000            1300.000000   \n",
       "unique               NaN             NaN                    NaN   \n",
       "top                  NaN             NaN                    NaN   \n",
       "freq                 NaN             NaN                    NaN   \n",
       "mean          200.553015       84.025392               5.991162   \n",
       "std            28.995807       19.792733               1.147160   \n",
       "min           150.110000       50.130000               4.000000   \n",
       "25%           175.600000       67.152500               5.000000   \n",
       "50%           201.130000       84.450000               5.960000   \n",
       "75%           225.982500      100.080000               6.990000   \n",
       "max           249.950000      119.880000               7.990000   \n",
       "\n",
       "        Catalyst_Activity  Air_Flow_Rate  Fractionator_Top_Temp  \\\n",
       "count         1300.000000    1300.000000            1300.000000   \n",
       "unique                NaN            NaN                    NaN   \n",
       "top                   NaN            NaN                    NaN   \n",
       "freq                  NaN            NaN                    NaN   \n",
       "mean            79.913246   65258.142446             175.644785   \n",
       "std             11.554706    8520.480908              14.347916   \n",
       "min             60.030000   50022.530000             150.160000   \n",
       "25%             69.932500   57962.610000             163.497500   \n",
       "50%             80.015000   65648.680000             175.615000   \n",
       "75%             89.890000   72486.967500             187.870000   \n",
       "max             99.930000   79948.410000             199.950000   \n",
       "\n",
       "        Fractionator_Bottom_Temp  ...  Product_Yield  Conversion_Rate  \\\n",
       "count                  1300.0000  ...    1300.000000      1300.000000   \n",
       "unique                       NaN  ...            NaN              NaN   \n",
       "top                          NaN  ...            NaN              NaN   \n",
       "freq                         NaN  ...            NaN              NaN   \n",
       "mean                    330.0192  ...      49.751854        80.213031   \n",
       "std                      17.6485  ...       5.667837         5.739969   \n",
       "min                     300.0600  ...      40.020000        70.000000   \n",
       "25%                     314.4875  ...      44.887500        75.340000   \n",
       "50%                     330.3000  ...      49.540000        80.445000   \n",
       "75%                     346.0125  ...      54.515000        85.130000   \n",
       "max                     359.9800  ...      60.000000        89.980000   \n",
       "\n",
       "        Energy_Consumption  Emissions_NOx  Emissions_SOx  \\\n",
       "count          1300.000000    1300.000000    1300.000000   \n",
       "unique                 NaN            NaN            NaN   \n",
       "top                    NaN            NaN            NaN   \n",
       "freq                   NaN            NaN            NaN   \n",
       "mean            150.502877     100.951138      35.289308   \n",
       "std              29.065612      29.967522      14.437791   \n",
       "min             100.180000      50.080000      10.060000   \n",
       "25%             125.137500      75.410000      22.992500   \n",
       "50%             150.065000     100.900000      35.190000   \n",
       "75%             175.740000     127.915000      47.832500   \n",
       "max             200.000000     149.930000      59.990000   \n",
       "\n",
       "        Control_Stability_Index  Reward_Score  Feed_Change_Event  \\\n",
       "count               1300.000000   1300.000000        1300.000000   \n",
       "unique                      NaN           NaN                NaN   \n",
       "top                         NaN           NaN                NaN   \n",
       "freq                        NaN           NaN                NaN   \n",
       "mean                   0.901092      0.370609           0.095385   \n",
       "std                    0.058101      0.044152           0.293858   \n",
       "min                    0.800000      0.247000           0.000000   \n",
       "25%                    0.850000      0.340000           0.000000   \n",
       "50%                    0.900000      0.371000           0.000000   \n",
       "75%                    0.950000      0.401250           0.000000   \n",
       "max                    1.000000      0.491000           1.000000   \n",
       "\n",
       "        Catalyst_Replacement  External_Disturbance_Type  \n",
       "count            1300.000000                        179  \n",
       "unique                   NaN                          2  \n",
       "top                      NaN         AirFlowFluctuation  \n",
       "freq                     NaN                        119  \n",
       "mean                0.043077                        NaN  \n",
       "std                 0.203108                        NaN  \n",
       "min                 0.000000                        NaN  \n",
       "25%                 0.000000                        NaN  \n",
       "50%                 0.000000                        NaN  \n",
       "75%                 0.000000                        NaN  \n",
       "max                 1.000000                        NaN  \n",
       "\n",
       "[11 rows x 27 columns]"
      ]
     },
     "execution_count": 4,
     "metadata": {},
     "output_type": "execute_result"
    }
   ],
   "source": [
    "print(f\"Total number of rows: {len(df.index)}\")\n",
    "df.describe(include=\"all\")"
   ]
  },
  {
   "cell_type": "markdown",
   "metadata": {
    "id": "CkzUaRA832-g"
   },
   "source": [
    "As we can see, the dataset doesn't have any missing values except for the external disturbance type.\n",
    "\n",
    "At the first glance, all statistical data is normal. STD values are reasonably low and there's no much difference between minimum and maximum values.\n",
    "\n",
    "All timestamps are unique.\n",
    "\n",
    "| Variable | Description |\n",
    "| ------------- | ------------- |\n",
    "| Reactor_Temperature | Self-explanatory |\n",
    "| Regenerator_Temperature | Self-explanatory |\n",
    "| Reactor_Pressure | Self-explanatory |\n",
    "| Feed_Flow_Rate | Flow of oil |\n",
    "| Catalyst_to_Oil_Ratio | Mass of catalyst divided to mass of oil in the reactor |\n",
    "| Catalyst_Activity | Self-explanatory |\n",
    "| Air_Flow_Rate | Flow of air to the regenerator |\n",
    "| Fractionator_Top_Temp | Temperature in the upper section of the fractionator column |\n",
    "| Fractionator_Bottom_Temp | Temperature in the lower section of the fractionator column |\n",
    "| Feedstock_Quality_Index | Quality of the feedstock |\n",
    "| Setpoint_Reactor_Temp | Target temperature for the PID controller |\n",
    "| Setpoint_Regenerator_Temp | Target temperature for the PID controller |\n",
    "| PID_Kp | Coeff of the PID controller |\n",
    "| PID_Ki | CCoeff of the PID controller |\n",
    "| PID_Kd | Coeff of the PID controller |\n",
    "| Fuzzy_Adjustment_Factor | Parameter for the PID controller |\n",
    "| Product_Yield | Product flow |\n",
    "| Conversion_Rate | % of the chemically changed feed |\n",
    "| Energy_Consumption | Energy consumed by the whole unit |\n",
    "| Emission_NOx | Nitrogen oxides emission |\n",
    "| Emission_SOx | Sulphur oxides emission |\n",
    "| Control_Stability_Index | Parameter of the controller efficiency |\n",
    "| Reward_Score | Controller parameter |\n",
    "| Feed_Change_Event | Special event: feed change |\n",
    "| Catalyst_Replacement | Special event: catalyst replacement |\n",
    "| External_Disturbance_Type | External disturbance affecting the unit |"
   ]
  },
  {
   "cell_type": "markdown",
   "metadata": {
    "id": "DyuDGnRr5qiO"
   },
   "source": [
    "Changing special event columns into the bool type:"
   ]
  },
  {
   "cell_type": "code",
   "execution_count": 5,
   "metadata": {
    "colab": {
     "base_uri": "https://localhost:8080/"
    },
    "id": "2VwuxdyQ4BrF",
    "outputId": "33604871-6aac-4d56-dc9d-415a5fb26a25"
   },
   "outputs": [
    {
     "name": "stdout",
     "output_type": "stream",
     "text": [
      "Timestamp                     object\n",
      "Reactor_Temperature          float64\n",
      "Regenerator_Temperature      float64\n",
      "Reactor_Pressure             float64\n",
      "Feed_Flow_Rate               float64\n",
      "Catalyst_to_Oil_Ratio        float64\n",
      "Catalyst_Activity            float64\n",
      "Air_Flow_Rate                float64\n",
      "Fractionator_Top_Temp        float64\n",
      "Fractionator_Bottom_Temp     float64\n",
      "Feedstock_Quality_Index      float64\n",
      "Setpoint_Reactor_Temp        float64\n",
      "Setpoint_Regenerator_Temp    float64\n",
      "PID_Kp                       float64\n",
      "PID_Ki                       float64\n",
      "PID_Kd                       float64\n",
      "Fuzzy_Adjustment_Factor      float64\n",
      "Product_Yield                float64\n",
      "Conversion_Rate              float64\n",
      "Energy_Consumption           float64\n",
      "Emissions_NOx                float64\n",
      "Emissions_SOx                float64\n",
      "Control_Stability_Index      float64\n",
      "Reward_Score                 float64\n",
      "Feed_Change_Event              int64\n",
      "Catalyst_Replacement           int64\n",
      "External_Disturbance_Type     object\n",
      "dtype: object\n",
      "Timestamp                     object\n",
      "Reactor_Temperature          float64\n",
      "Regenerator_Temperature      float64\n",
      "Reactor_Pressure             float64\n",
      "Feed_Flow_Rate               float64\n",
      "Catalyst_to_Oil_Ratio        float64\n",
      "Catalyst_Activity            float64\n",
      "Air_Flow_Rate                float64\n",
      "Fractionator_Top_Temp        float64\n",
      "Fractionator_Bottom_Temp     float64\n",
      "Feedstock_Quality_Index      float64\n",
      "Setpoint_Reactor_Temp        float64\n",
      "Setpoint_Regenerator_Temp    float64\n",
      "PID_Kp                       float64\n",
      "PID_Ki                       float64\n",
      "PID_Kd                       float64\n",
      "Fuzzy_Adjustment_Factor      float64\n",
      "Product_Yield                float64\n",
      "Conversion_Rate              float64\n",
      "Energy_Consumption           float64\n",
      "Emissions_NOx                float64\n",
      "Emissions_SOx                float64\n",
      "Control_Stability_Index      float64\n",
      "Reward_Score                 float64\n",
      "Feed_Change_Event               bool\n",
      "Catalyst_Replacement            bool\n",
      "External_Disturbance_Type     object\n",
      "dtype: object\n"
     ]
    }
   ],
   "source": [
    "print(df.dtypes)\n",
    "\n",
    "df[\"Feed_Change_Event\"] = df[\"Feed_Change_Event\"].astype(bool)\n",
    "df[\"Catalyst_Replacement\"] = df[\"Catalyst_Replacement\"].astype(bool)\n",
    "\n",
    "print(df.dtypes)"
   ]
  },
  {
   "cell_type": "markdown",
   "metadata": {
    "id": "HwLEvcbW7BuG"
   },
   "source": [
    "# 2 Duplicates"
   ]
  },
  {
   "cell_type": "code",
   "execution_count": 6,
   "metadata": {
    "colab": {
     "base_uri": "https://localhost:8080/",
     "height": 116
    },
    "id": "IBc-inFg7D9S",
    "outputId": "527b568b-109b-415f-8085-adbacdaee352"
   },
   "outputs": [
    {
     "name": "stdout",
     "output_type": "stream",
     "text": [
      "Number of duplicate rows: 0\n"
     ]
    },
    {
     "data": {
      "text/html": [
       "<div>\n",
       "<style scoped>\n",
       "    .dataframe tbody tr th:only-of-type {\n",
       "        vertical-align: middle;\n",
       "    }\n",
       "\n",
       "    .dataframe tbody tr th {\n",
       "        vertical-align: top;\n",
       "    }\n",
       "\n",
       "    .dataframe thead th {\n",
       "        text-align: right;\n",
       "    }\n",
       "</style>\n",
       "<table border=\"1\" class=\"dataframe\">\n",
       "  <thead>\n",
       "    <tr style=\"text-align: right;\">\n",
       "      <th></th>\n",
       "      <th>Timestamp</th>\n",
       "      <th>Reactor_Temperature</th>\n",
       "      <th>Regenerator_Temperature</th>\n",
       "      <th>Reactor_Pressure</th>\n",
       "      <th>Feed_Flow_Rate</th>\n",
       "      <th>Catalyst_to_Oil_Ratio</th>\n",
       "      <th>Catalyst_Activity</th>\n",
       "      <th>Air_Flow_Rate</th>\n",
       "      <th>Fractionator_Top_Temp</th>\n",
       "      <th>Fractionator_Bottom_Temp</th>\n",
       "      <th>...</th>\n",
       "      <th>Product_Yield</th>\n",
       "      <th>Conversion_Rate</th>\n",
       "      <th>Energy_Consumption</th>\n",
       "      <th>Emissions_NOx</th>\n",
       "      <th>Emissions_SOx</th>\n",
       "      <th>Control_Stability_Index</th>\n",
       "      <th>Reward_Score</th>\n",
       "      <th>Feed_Change_Event</th>\n",
       "      <th>Catalyst_Replacement</th>\n",
       "      <th>External_Disturbance_Type</th>\n",
       "    </tr>\n",
       "  </thead>\n",
       "  <tbody>\n",
       "  </tbody>\n",
       "</table>\n",
       "<p>0 rows × 27 columns</p>\n",
       "</div>"
      ],
      "text/plain": [
       "Empty DataFrame\n",
       "Columns: [Timestamp, Reactor_Temperature, Regenerator_Temperature, Reactor_Pressure, Feed_Flow_Rate, Catalyst_to_Oil_Ratio, Catalyst_Activity, Air_Flow_Rate, Fractionator_Top_Temp, Fractionator_Bottom_Temp, Feedstock_Quality_Index, Setpoint_Reactor_Temp, Setpoint_Regenerator_Temp, PID_Kp, PID_Ki, PID_Kd, Fuzzy_Adjustment_Factor, Product_Yield, Conversion_Rate, Energy_Consumption, Emissions_NOx, Emissions_SOx, Control_Stability_Index, Reward_Score, Feed_Change_Event, Catalyst_Replacement, External_Disturbance_Type]\n",
       "Index: []\n",
       "\n",
       "[0 rows x 27 columns]"
      ]
     },
     "metadata": {},
     "output_type": "display_data"
    }
   ],
   "source": [
    "duplicates = df[df.duplicated()]\n",
    "print(f\"Number of duplicate rows: {len(duplicates)}\")\n",
    "display(duplicates)"
   ]
  },
  {
   "cell_type": "markdown",
   "metadata": {
    "id": "oHZz1DDZ7SyX"
   },
   "source": [
    "There are no duplicates in the data."
   ]
  },
  {
   "cell_type": "markdown",
   "metadata": {
    "id": "xNaEQ4MY74BF"
   },
   "source": [
    "# 3 Missing values\n",
    "\n",
    "As has been mentioned already, the only column with missing values is \"External_Disturbance_Type\".\n",
    "\n",
    "Missing values in that column mean that there's no external disturbance. Let's replace them with the \"None\" string (not None object!)."
   ]
  },
  {
   "cell_type": "code",
   "execution_count": 7,
   "metadata": {
    "colab": {
     "base_uri": "https://localhost:8080/",
     "height": 209
    },
    "id": "QGKJTOq68Ujr",
    "outputId": "e6f90758-838c-42ed-e074-d62a00554e54"
   },
   "outputs": [
    {
     "data": {
      "text/plain": [
       "count     1300\n",
       "unique       3\n",
       "top       None\n",
       "freq      1121\n",
       "Name: External_Disturbance_Type, dtype: object"
      ]
     },
     "execution_count": 7,
     "metadata": {},
     "output_type": "execute_result"
    }
   ],
   "source": [
    "df[\"External_Disturbance_Type\"] = df[\"External_Disturbance_Type\"].fillna(\"None\")\n",
    "\n",
    "df[\"External_Disturbance_Type\"].describe()"
   ]
  },
  {
   "cell_type": "markdown",
   "metadata": {
    "id": "2ybTcbVp7Zdr"
   },
   "source": [
    "# 4 Correlation analysis\n",
    "\n",
    "The Spearman correlation is used because it's better for non-linear relationships than the Pearson correlation."
   ]
  },
  {
   "cell_type": "code",
   "execution_count": 8,
   "metadata": {
    "colab": {
     "base_uri": "https://localhost:8080/",
     "height": 599
    },
    "id": "DIPXcgvw7QD2",
    "outputId": "983b2191-5008-4fee-86b3-c62907e56c36"
   },
   "outputs": [
    {
     "data": {
      "image/png": "[encoded data removed]",
      "text/plain": [
       "<Figure size 800x600 with 2 Axes>"
      ]
     },
     "metadata": {},
     "output_type": "display_data"
    }
   ],
   "source": [
    "corr_matrix = df.corr(method=\"spearman\", numeric_only=True)\n",
    "plt.figure(figsize=(8, 6))\n",
    "\n",
    "sns.heatmap(\n",
    "    corr_matrix,\n",
    "    annot=False,\n",
    "    cmap=\"coolwarm\",\n",
    "    fmt=\".2f\",\n",
    "    center=0,\n",
    "    linewidths=0.5,\n",
    "    square=True,\n",
    ")\n",
    "\n",
    "plt.title(\"Correlation Matrix of Dataset Features\", fontsize=8)\n",
    "plt.show()"
   ]
  },
  {
   "cell_type": "markdown",
   "metadata": {
    "id": "gZ9q1Sjy9sj4"
   },
   "source": [
    "There's no easy-to-catch correlation for any pair of dataset features."
   ]
  },
  {
   "cell_type": "code",
   "execution_count": 9,
   "metadata": {
    "colab": {
     "base_uri": "https://localhost:8080/",
     "height": 542
    },
    "id": "MiX4Obkz_S_-",
    "outputId": "aa25423f-0927-4472-c5e9-06f96b4d5ccb"
   },
   "outputs": [
    {
     "data": {
      "application/vnd.plotly.v1+json": {
       "config": {
        "plotlyServerURL": "https://plot.ly"
       },
       "data": [
        {
         "dimensions": [
          {
           "axis": {
            "matches": true
           },
           "label": "Conversion_Rate",
           "values": {
            "bdata": "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",
            "dtype": "f8"
           }
          },
          {
           "axis": {
            "matches": true
           },
           "label": "Reactor_Temperature",
           "values": {
            "bdata": "16NwPQrBgEB7FK5H4SSBQFK4HoXrcYFAj8L1KFxLgECamZmZmVOBQHsUrkfhVn9Aj8L1KFxXfkApXI/C9byAQFyPwvUoOIBAhetRuB5zgUDD9Shcj6aAQJqZmZmZDYFAKVyPwvUIgUDsUbgehe+AQArXo3A9MIFA7FG4HoV5gECF61G4Hil+QK5H4XoU1n9AXI/C9ShwfkApXI/C9QqAQKRwPQrXH35Aw/UoXI9yf0AUrkfhegyBQLgehetRYIFAFK5H4Xp4fkA9CtejcFl/QHE9CtejrH5ArkfhehS+fkAK16NwPb5/QOF6FK5Hk4BAMzMzMzOzfkBmZmZmZjCAQKRwPQrXH39A4XoUrkedgEBmZmZmZl5+QLgehetRmH5AZmZmZmYUgEA9CtejcG+AQAAAAAAAKoBAH4XrUbhagEA9CtejcI+AQDMzMzMzB39ArkfhehRqgUDNzMzMzGKBQIXrUbgePX9AuB6F61H+gECamZmZmVeBQFK4HoXr/X5A16NwPQrPfkAfhetRuESAQJqZmZmZY4FArkfhehQCfkDNzMzMzByAQK5H4XoUGIFAKVyPwvUgf0BxPQrXo5CAQNejcD0Kw4BAj8L1KFy/gEB7FK5H4cp+QOxRuB6F+35AZmZmZmYSf0Bcj8L1KGSBQNejcD0Kb39A16NwPQovfkDXo3A9CoN+QK5H4XoU0n9A9ihcj8L9gEDXo3A9Cld/QIXrUbgeTX9AMzMzMzNPfkCkcD0K12t+QNejcD0KcYBA7FG4HoWLf0ApXI/C9RaBQJqZmZmZkX9ApHA9CtdjgECPwvUoXKd+QHE9CtejbIFASOF6FK6rfkC4HoXrUeiAQArXo3A9BIFAuB6F61EGgEDXo3A9CheBQPYoXI/C/X5ApHA9CtcLfkBxPQrXo0CAQHsUrkfhsoBAKVyPwvUcgEAzMzMzM4+AQClcj8L1ToBApHA9Ctd3fkCkcD0K12N+QOF6FK5H1YBArkfhehRMgEAfhetRuCaBQB+F61G4VoBASOF6FK45gUC4HoXrUVyAQM3MzMzMDH9AXI/C9SjkfkApXI/C9fR+QHsUrkfhxn9AmpmZmZk1gUAzMzMzM/WAQJqZmZmZEYFAAAAAAADQf0BI4XoUruuAQAAAAAAAPIBACtejcD2Gf0DNzMzMzASBQI/C9Shc/4BAhetRuB5dgEA9CtejcCmAQLgehetRyIBAzczMzMzMfkAK16NwPRiBQGZmZmZman9ArkfhehT6f0DNzMzMzIKAQMP1KFyPJoFAFK5H4XpMfkBSuB6F6+mAQOF6FK5HZX9A9ihcj8IBgUAK16NwPfSAQKRwPQrXT39ASOF6FK5RgECkcD0K1+WAQOxRuB6FF39A16NwPQoPgECPwvUoXCN/QDMzMzMzU4FACtejcD2CgEBcj8L1KAx/QIXrUbge4X5AH4XrUbiefkAK16NwPTyAQK5H4XoU1IBAhetRuB6VgEApXI/C9Vh+QFyPwvUoNIFAzczMzMwQgEDD9Shcj55/QI/C9Shcc4BAXI/C9SjQfkCkcD0K1w9/QFK4HoXr1X5AzczMzMycfkAK16NwPZiAQOF6FK5HTX9Aj8L1KFxxgUB7FK5H4RiAQAAAAAAAUH5A16NwPQqFgEApXI/C9cCAQD0K16NwSYBAj8L1KFwrf0DNzMzMzGiAQI/C9ShcS35ArkfhehSOgECPwvUoXJ9+QNejcD0K839A4XoUrkfrgEDD9Shcj4qAQBSuR+F6FIBAAAAAAACUf0DsUbgehVWBQFK4HoXrb4FApHA9Cte7fkDXo3A9Cj2BQOxRuB6FD35A16NwPQovfkCkcD0K1xWBQClcj8L1kH9AH4XrUbg+gEDhehSuR1OAQJqZmZmZpX5AXI/C9ShogECF61G4Ht1/QDMzMzMzx35AmpmZmZlpfkCPwvUoXEOAQMP1KFyPEoBAKVyPwvUsf0C4HoXrUYCAQOF6FK5H9X9A9ihcj8JVgEDXo3A9Cut/QGZmZmZmYn9AAAAAAADgf0BI4XoUrgt+QDMzMzMzT4FArkfhehScgEBcj8L1KCCBQOxRuB6FZYFAmpmZmZltgUBI4XoUrud/QIXrUbge8YBAAAAAAACYgEBxPQrXoxh/QEjhehSuN4FAFK5H4XqagEBmZmZmZkaBQNejcD0KtYBACtejcD3GgEDNzMzMzHqAQD0K16NwmYBArkfhehSyf0BSuB6F6/l/QB+F61G4YoBAZmZmZmZAgUDXo3A9ChGAQHsUrkfh7n5AmpmZmZmlgEC4HoXrUWCAQDMzMzMzNYFAFK5H4XpegEDsUbgeheOAQD0K16Nwc4BAUrgehespfkBcj8L1KGB+QFK4HoXr74BAMzMzMzMxgUCF61G4Ho1/QOxRuB6FrYBAXI/C9ShmgUCPwvUoXOGAQOF6FK5Hi4BAj8L1KFx5gUDD9Shcj1yAQJqZmZmZ7X9AUrgehesVgECF61G4Hvl+QBSuR+F6CoBACtejcD1QgEBxPQrXowaBQIXrUbge64BArkfhehRWgEDXo3A9ClN/QGZmZmZmQoBA16NwPQrrfkDXo3A9Cqt/QFK4HoXrSYBAcT0K16MMfkDNzMzMzD6AQDMzMzMzP4FAAAAAAACsfkBmZmZmZhKBQOF6FK5HLX9AXI/C9SgGgEC4HoXrUQSAQLgehetRbH5AUrgehesdgUApXI/C9XKAQHsUrkfh8oBAhetRuB6xf0C4HoXrUUKAQGZmZmZmcoFA4XoUrkfBfkDhehSuRz1+QDMzMzMzaYFA4XoUrkclfkDhehSuR9+AQArXo3A9WIFA7FG4HoVffkAzMzMzM12AQArXo3A9an9Aj8L1KFy3gEDNzMzMzLB+QOxRuB6FoYBAhetRuB4tfkCamZmZmYF/QM3MzMzMqH5APQrXo3C5gEB7FK5H4QyBQB+F61G41IBA16NwPQrngEBI4XoUrrmAQClcj8L1BH5ACtejcD32gEAzMzMzM3OAQK5H4XoULn5APQrXo3DTgEDXo3A9CnOBQPYoXI/CoYBAw/UoXI8igECuR+F6FDyAQDMzMzMzN4BArkfhehSOgEBcj8L1KLh/QOxRuB6Fh39AmpmZmZnbgECF61G4Hu1/QOxRuB6F/YBA9ihcj8JpfkBxPQrXo3CBQIXrUbgexX9AXI/C9SgQgUCPwvUoXDGAQKRwPQrXm4BAMzMzMzNRgUBSuB6F681/QK5H4XoUbn9Aj8L1KFyngEA9CtejcEl+QJqZmZmZU4FAw/UoXI98gUBxPQrXo+B+QLgehetRqoBAPQrXo3Ddf0AAAAAAACqAQArXo3A9hn5AH4XrUbj6fkAfhetRuC5/QK5H4XoUZn5Aj8L1KFxfgEBSuB6F68+AQBSuR+F6PoFAzczMzMy4f0BxPQrXozSBQHsUrkfhXIFA9ihcj8I1gUDsUbgehbN+QDMzMzMzEYFASOF6FK7Lf0DXo3A9Csd+QK5H4XoUFn9ArkfhehRKgEApXI/C9RiBQK5H4XoUQoFAuB6F61HsfkCuR+F6FGqAQOF6FK5HEX5AFK5H4XqIfkCkcD0K19mAQPYoXI/CbX5A4XoUrkcLgEA9CtejcPGAQIXrUbgeVYFAH4XrUbh6fkAK16NwPViAQI/C9Shck39ApHA9CtcjfkAUrkfherKAQNejcD0KWYFAuB6F61E8fkCF61G4Ho1+QIXrUbgeQYFAzczMzMw8gECkcD0K1/2AQKRwPQrXP4BAFK5H4XrEgEBcj8L1KGyBQJqZmZmZJ4FAexSuR+FkgEAzMzMzM8OAQMP1KFyPon9AAAAAAABkf0DD9Shcj56AQIXrUbge94BAuB6F61E4fkBmZmZmZkSBQB+F61G48n5AXI/C9Sh8gUA9CtejcBeAQB+F61G4koBAhetRuB5LgEB7FK5H4Y5/QAAAAAAApIBAMzMzMzNrf0DNzMzMzJR/QI/C9Shcl39A4XoUrkelgECF61G4HjWBQOF6FK5H+YBAzczMzMxugUDNzMzMzFiAQAAAAAAA1H9A9ihcj8LRf0Bcj8L1KER/QMP1KFyPzIBAPQrXo3A7gEB7FK5H4YaAQClcj8L1sIBApHA9Ctfrf0AAAAAAADR+QFK4HoXrnYBAzczMzMx+gEAzMzMzM2mAQLgehetRbH9AzczMzMz8gEBxPQrXo4x/QFyPwvUoqH9ASOF6FK6jf0CuR+F6FLCAQBSuR+F6coBAAAAAAADkgECamZmZmfeAQKRwPQrXq35AcT0K16OYfkBI4XoUrlN/QD0K16NwrYBAj8L1KFx5gUAfhetRuCCAQKRwPQrXL4FAAAAAAACOgEAzMzMzM/GAQOF6FK5Hp4BAzczMzMwCgECkcD0K162AQBSuR+F6SH5ArkfhehSCf0BI4XoUrtuAQOF6FK5HeX5AcT0K16M6gUAAAAAAAJR/QArXo3A9UIBAzczMzMxkfkAzMzMzM+N/QOF6FK5HsX5AhetRuB4NfkB7FK5H4RaBQJqZmZmZqX9AhetRuB5RfkA9CtejcP1+QAAAAAAAvoBAXI/C9Sgsf0CF61G4HsGAQIXrUbgeE4BAXI/C9ShYgUAfhetRuA6BQArXo3A9yn5AH4XrUbjif0BxPQrXo06AQK5H4XoUuIBAUrgehetNgUDsUbgehQ+BQD0K16NwyYBAAAAAAAAegUC4HoXrUZh/QLgehetRMIFAhetRuB5tf0AAAAAAAF6BQBSuR+F6YIFA9ihcj8IHgUCuR+F6FHJ+QFK4HoXrDX9ArkfhehSogEAzMzMzMwt+QOF6FK5HX4FASOF6FK5rfkBSuB6F6w+BQFK4HoXr9X9AH4XrUbhYgEBSuB6F6wmAQClcj8L1CIFA7FG4HoULfkAK16NwPeqAQI/C9Shcq4BAKVyPwvXUfkDhehSuRxmBQI/C9Shco35AhetRuB6JfkCPwvUoXC+BQEjhehSu4YBAhetRuB5dgEDNzMzMzOx/QArXo3A9mIBACtejcD0afkDD9Shcj+J+QHE9CtejUoBAhetRuB5lf0D2KFyPwnuAQKRwPQrXbYFAAAAAAADwf0AAAAAAAMB/QGZmZmZmEn9A4XoUrkdNgUCuR+F6FByAQDMzMzMzDYFA4XoUrkc/gUCuR+F6FBSBQI/C9ShcRYBAzczMzMxegUBSuB6F6y+AQJqZmZmZKYBAKVyPwvVegUA9CtejcBF+QClcj8L1eIBAKVyPwvWAgEBxPQrXo16BQGZmZmZmXn9AcT0K16McfkBmZmZmZmaBQBSuR+F6lH9AuB6F61GYgEBcj8L1KESBQM3MzMzMSH9ApHA9CtcBgUBmZmZmZtp+QHE9CtejIoFA9ihcj8IpgEBxPQrXo5B/QGZmZmZmAn5AXI/C9Sisf0A9CtejcBuAQHE9CtejKIBAH4XrUbgSgEBcj8L1KDSAQOxRuB6FiYBAmpmZmZlPgUAAAAAAAHKAQFyPwvUoBIBAcT0K16MMf0D2KFyPwh2BQM3MzMzM4H5ArkfhehRigUAK16NwPVaBQMP1KFyPnoBAPQrXo3CXgED2KFyPwj+BQEjhehSuZ39AZmZmZmYwgUDsUbgehXd+QClcj8L1VIFArkfhehTCf0A9CtejcKV+QHE9CtejtoBAuB6F61HAf0BI4XoUrhOBQPYoXI/CqX9Aw/UoXI8wgEDXo3A9CnuAQBSuR+F6bH9AuB6F61GKgEApXI/C9cyAQHsUrkfh/oBAhetRuB7VgEDNzMzMzMx/QClcj8L1NIFA9ihcj8I9gUDhehSuR4V+QJqZmZmZcX5AUrgehevjgEDhehSuRxF+QGZmZmZmooBA4XoUrke1f0DXo3A9Cg9/QOF6FK5HaYBAKVyPwvWggEC4HoXrUTaAQClcj8L1CH9APQrXo3AfgUB7FK5H4RCBQOxRuB6F74BAXI/C9SgKgUCamZmZme1/QM3MzMzMqIBAFK5H4XpMfkAAAAAAAFSAQOxRuB6F335AH4XrUbgagEA9CtejcLl/QEjhehSuY35ArkfhehQGgEBcj8L1KBR+QD0K16NwfYBAhetRuB6Nf0A9CtejcJl+QNejcD0KU39AuB6F61GIf0BI4XoUrkeBQFK4HoXrCYFA4XoUrkc1gUBmZmZmZvCAQB+F61G4ToBAAAAAAADKgEBmZmZmZv6AQBSuR+F6CoBAexSuR+FmfkAzMzMzM32AQD0K16NwM4FAPQrXo3AtfkDNzMzMzLh+QJqZmZmZiX5AUrgehetFgUCamZmZmZF+QDMzMzMzF4FA4XoUrkdrgEDhehSuR8WAQJqZmZmZH4BArkfhehR+gUDXo3A9CmWBQPYoXI/CNYBAKVyPwvWsgECF61G4Ho+AQGZmZmZmsIBAuB6F61E0fkDD9Shcjx6AQK5H4XoUNn9AhetRuB6tgECkcD0K13N/QD0K16NwpX5A9ihcj8JhgEAfhetRuGiBQNejcD0KiYBAuB6F61F4fkDNzMzMzO6AQBSuR+F61H9Aj8L1KFzzf0AzMzMzM+t+QDMzMzMzS4BAXI/C9SgigEDXo3A9ClN+QDMzMzMz035AzczMzMz0gEC4HoXrUQiBQLgehetRVoFAj8L1KFzvfkCPwvUoXBOAQEjhehSuB4BAKVyPwvXcfkBxPQrXo+R+QK5H4XoUMIFA9ihcj8LBf0CuR+F6FHp/QMP1KFyPan9Aj8L1KFwDf0BI4XoUrn9+QDMzMzMz14BAKVyPwvUAgECkcD0K1z2BQClcj8L1PoFAAAAAAAB6gECF61G4HhF+QArXo3A9eoBAMzMzMzOJgEDD9Shcjzp/QB+F61G4XIFArkfhehQggUBmZmZmZg6AQClcj8L10H5Aw/UoXI9GgUBxPQrXo6KAQBSuR+F6VIBAPQrXo3BtgEDD9Shcj7KAQGZmZmZmboFAXI/C9Sg2gUBSuB6F64WAQOxRuB6FW39ArkfhehQGgEAUrkfhehiBQPYoXI/CbYFArkfhehQmgUBSuB6F60mBQOF6FK5HGYBA4XoUrkezgECkcD0K1w9/QOF6FK5HzX9AZmZmZmYggEDD9Shcjy5+QClcj8L1bH5AXI/C9ShwgEA9CtejcJmAQGZmZmZmDIBAPQrXo3B/gEA9CtejcJOAQLgehetRHoFA4XoUrkepf0CamZmZmReBQB+F61G4rn9AzczMzMygf0D2KFyPwu1/QFyPwvUo4oBAcT0K16NagUDhehSuR51+QClcj8L17oBAzczMzMx6gUDsUbgehSmBQHE9Ctej4IBAexSuR+FugUCF61G4HkWAQFyPwvUoFIBAKVyPwvV0gEDhehSuR4+AQJqZmZmZ64BAuB6F61HwfkBI4XoUrot/QIXrUbgev4BAUrgeheuhgEBcj8L1KCyBQI/C9ShcS4FA7FG4HoULgUAzMzMzM9+AQFyPwvUoTIBAcT0K16NGgECamZmZmWGBQPYoXI/CzX9AuB6F61EEgUCkcD0K19WAQFK4HoXrs4BAH4XrUbgUgECuR+F6FCKBQHE9Ctej6oBAUrgehespgEB7FK5H4X6BQLgehetRcIBA7FG4HoXPgEA9CtejcD2BQOxRuB6FE35A4XoUrkcNf0CuR+F6FLaAQIXrUbgex4BAFK5H4Xpsf0CkcD0K1xd/QOxRuB6Fv4BAH4XrUbiSf0CkcD0K1w9/QArXo3A9Bn5ApHA9CtfXgEDNzMzMzACAQHE9Ctej/H5A16NwPQozgEDsUbgehVWAQK5H4XoUZoBAXI/C9SiMfkAzMzMzM02BQB+F61G4an5ArkfhehSGgEBmZmZmZkyBQFyPwvUoVH9A7FG4HoV3f0AUrkfhesh+QMP1KFyPsn5AAAAAAABmgEAAAAAAAMh/QGZmZmZmBIFAMzMzMzNzf0BI4XoUrnGAQIXrUbge8X9AKVyPwvUQgEBI4XoUrrt/QArXo3A9LIBAuB6F61EugECamZmZmY1+QI/C9ShcI35AZmZmZmb2gEBxPQrXozR/QOF6FK5H1X9ACtejcD0wgEA9CtejcEuBQJqZmZmZDYBAuB6F61F0f0ApXI/C9ZqAQJqZmZmZXYFAXI/C9ShQgUAAAAAAAASAQJqZmZmZB4FASOF6FK5NgEBxPQrXo4CAQNejcD0KG4FApHA9CteHgECF61G4HreAQIXrUbge/4BAKVyPwvVAf0Bcj8L1KGSBQD0K16NwX4BAexSuR+GKf0A9CtejcC2AQBSuR+F6JH5A9ihcj8KlfkAK16NwPU5/QKRwPQrXTYFACtejcD04gUBcj8L1KNh+QJqZmZmZa4BASOF6FK5BgEApXI/C9Uh/QLgehetRsIBAexSuR+ECgUBI4XoUrpN+QD0K16NwGYBAexSuR+GefkAAAAAAAKyAQAAAAAAAToFACtejcD1Cf0BSuB6F6x2BQB+F61G4wn9A7FG4HoVNgEBxPQrXo1CAQK5H4XoUwIBA7FG4HoWPf0AfhetRuFiAQDMzMzMz64BAFK5H4XpGgEAfhetRuFiAQPYoXI/CUYFAcT0K16NegUBSuB6F62+BQB+F61G4jn5ApHA9CtfVgEDXo3A9CqmAQDMzMzMzn35A7FG4HoVrfkAfhetRuCJ+QMP1KFyP1n9AZmZmZmYGgED2KFyPwsV/QHsUrkfhBIBAexSuR+EOgECF61G4HmmBQOF6FK5H7X9ASOF6FK4HgECuR+F6FIp/QNejcD0Kj4BAZmZmZmbWgEDhehSuR+l/QIXrUbgeGYFAZmZmZmYGgUBcj8L1KECBQPYoXI/CaYBAUrgehevZgEDNzMzMzBiBQNejcD0Kq35ACtejcD0MgUDXo3A9CkuBQNejcD0KZ4FAhetRuB43gUApXI/C9Wx/QLgehetRzoBAw/UoXI+IgECamZmZmT1+QAAAAAAAKoFAUrgehetBfkCuR+F6FDaBQArXo3A9CoFAj8L1KFwHfkD2KFyPwr2AQIXrUbgeAX5A4XoUrkfLgED2KFyPwrl/QHsUrkfhLoFAj8L1KFxXf0BxPQrXozKBQGZmZmZmen9AH4XrUbhSgEDhehSuR7F+QK5H4XoUGn9A9ihcj8J7gECuR+F6FDqAQOF6FK5HW4BA4XoUrkdhf0CamZmZmZF+QGZmZmZmHIBAAAAAAABMfkBcj8L1KJqAQHsUrkfh0n9AzczMzMwqgEB7FK5H4baAQB+F61G4coFAXI/C9ShKgUBxPQrXoyh+QB+F61G4XoFAZmZmZmbqfkDhehSuR2eAQEjhehSuL35AexSuR+F6gEA9CtejcJF+QAAAAAAAnH9A7FG4HoXTf0DXo3A9CuN/QOxRuB6F735ASOF6FK5/gUDhehSuR3F+QEjhehSuX4BAZmZmZmaefkCamZmZmSmAQPYoXI/C2X5ASOF6FK7bgEAzMzMzMyWBQNejcD0Kb4FAMzMzMzMZgUB7FK5H4Yp+QAAAAAAATH5A4XoUrkfJgEC4HoXrURiBQHsUrkfhHoFA4XoUrkdngUAAAAAAAIaAQDMzMzMzS4BAzczMzMwSgUD2KFyPwnWBQKRwPQrXH35AH4XrUbj0gECuR+F6FE5+QArXo3A9Hn5AhetRuB5NgUCPwvUoXFWAQJqZmZmZk4BAH4XrUbjEgECkcD0K12WAQHE9CtejBIBACtejcD3+gECamZmZmXeBQKRwPQrXD4FAFK5H4XrYgEBmZmZmZjqAQOF6FK5HBX9APQrXo3ClfkBcj8L1KOR+QFyPwvUoOIBAAAAAAABMgEAK16NwPYJ/QNejcD0K+YBAAAAAAAAkf0A9CtejcD1+QOxRuB6FQ4FAZmZmZmZAgUApXI/C9Tx/QGZmZmZm8n9APQrXo3AJf0BSuB6F6xmAQM3MzMzMJIFACtejcD22fkBI4XoUri2BQBSuR+F6PoFAUrgehesbgUB7FK5H4dJ+QIXrUbgeC4FAZmZmZmY2fkCamZmZmeF+QPYoXI/CI4FAH4XrUbgSgEApXI/C9WCBQFyPwvUoToBAw/UoXI+CfkB7FK5H4RCBQIXrUbgekX9ACtejcD3ggEDD9Shcj2J+QLgehetR5IBA4XoUrkcHgUDNzMzMzKCAQM3MzMzMXIBAH4XrUbi2f0AUrkfhesB/QK5H4XoUUIBAPQrXo3C1fkCF61G4HmV+QD0K16Nwa4BACtejcD1IgUAzMzMzMxmAQAAAAAAAsH9AZmZmZmYggEAzMzMzM2d/QOxRuB6Fr39AUrgehevxf0CuR+F6FBZ/QArXo3A9FoFAPQrXo3CzgEBSuB6F6zGBQEjhehSuWYFACtejcD0kgEBxPQrXoyiBQMP1KFyPVn5AMzMzMzP7fkBcj8L1KFiAQM3MzMzMQH5Aj8L1KFyDf0CuR+F6FLp+QHsUrkfhLn5AzczMzMxSgED2KFyPwsV+QOxRuB6Fc35Aj8L1KFyPf0ApXI/C9Yh/QB+F61G4Bn9ApHA9CtfJgEDXo3A9Cp+AQGZmZmZmSoBAUrgeheuRf0BxPQrXo/qAQIXrUbgeMX9AuB6F61FugEAzMzMzM42AQD0K16Nwg4BAmpmZmZktgUApXI/C9Zh/QI/C9ShcEYBApHA9CtdTf0B7FK5H4Yp+QArXo3A9YoFAXI/C9ShSgUAUrkfhegSAQArXo3A9CIFAexSuR+EEgUAAAAAAANB+QB+F61G4YoBAMzMzMzNHgEBI4XoUrkuBQOF6FK5HoX5A4XoUrkdNf0ApXI/C9ch/QIXrUbgeYX9APQrXo3BngUDNzMzMzBSAQMP1KFyP4n9AAAAAAAB0fkC4HoXrUayAQIXrUbgeAX5AMzMzMzNzf0DhehSuR1l+QFK4HoXrxX9A16NwPQqrgECuR+F6FDKAQDMzMzMzPYFAH4XrUbhefkDXo3A9CsGAQPYoXI/CP4BA16NwPQo7fkDD9Shcjxp+QHE9CtejxIBAAAAAAAB2gUDXo3A9CoN+QBSuR+F6XIBA7FG4HoW/fkDhehSuR0mBQAAAAAAARIFAzczMzMyWgEAfhetRuPZ+QHsUrkfhrn9A16NwPQrLfkCF61G4Hp+AQOF6FK5HIX9A16NwPQovgUD2KFyPwnV+QMP1KFyP1IBAuB6F61G0gEDD9Shcj8yAQEjhehSuc4BAFK5H4XoYgUAUrkfhemR/QFK4HoXrHX9AAAAAAABCgUBI4XoUru9+QArXo3A96IBAw/UoXI+MgEDsUbgehVmAQK5H4XoUhn5APQrXo3ABfkAzMzMzMzmBQM3MzMzM6H9AZmZmZmY6gECPwvUoXBt+QLgehetRrIBAzczMzMwof0A9CtejcHGBQI/C9ShcvYBA4XoUrkdBgUBSuB6F622BQFyPwvUorH9A16NwPQoPgUBSuB6F6yuBQD0K16NwKX5A7FG4HoVzfkApXI/C9SiBQM3MzMzM6oBAXI/C9SjygEDhehSuR52AQMP1KFyP9oBArkfhehQwgED2KFyPwp1/QIXrUbgerX5AH4XrUbhqf0AzMzMzM2N/QJqZmZmZNX5ASOF6FK6BgEApXI/C9QB+QKRwPQrXk39APQrXo3C9gECF61G4HsWAQK5H4XoUYIFAPQrXo3BZgUDD9Shcj/p+QFyPwvUoZoFAMzMzMzMpgUB7FK5H4XaBQM3MzMzMLIBAw/UoXI/Gf0AAAAAAACx/QNejcD0KC35Aw/UoXI8GgUB7FK5H4eiAQHsUrkfhLn9AexSuR+E8gEDD9ShcjzCBQIXrUbgeoX9AZmZmZmY2fkC4HoXrUXiAQPYoXI/CBX5AuB6F61EcgECkcD0K10mAQHE9CtejboFAj8L1KFwLfkBI4XoUrguAQOxRuB6FU4FAMzMzMzONgEB7FK5H4ayAQFK4HoXr14BAH4XrUbhygUCF61G4Hil+QPYoXI/CBYBAuB6F61G4f0AzMzMzMw2AQGZmZmZmsn9APQrXo3AngEAAAAAAAGx+QHsUrkfhHIFA16NwPQpzf0ApXI/C9Qx+QJqZmZmZBX5AUrgehesbgUBSuB6F6zGBQEjhehSug35AcT0K16MggEA9CtejcD+AQHsUrkfh9oBAhetRuB7FfkCPwvUoXBN/QClcj8L1DH5A4XoUrkd7gUDD9Shcj8J+QGZmZmZmIIBAmpmZmZnLgECkcD0K1x9+QGZmZmZm3n5AexSuR+EegUAfhetRuBZ/QBSuR+F6HIFAMzMzMzMNgUDD9Shcj2SBQI/C9ShcP4FAhetRuB6fgEAK16NwPbZ/QM3MzMzM7H5AKVyPwvVagECF61G4Hv1/QD0K16NwxYBAMzMzMzPvgEAzMzMzMyOBQOxRuB6FE4FAj8L1KFyfgEDNzMzMzBx/QGZmZmZmWn9AFK5H4XpQfkBmZmZmZkCBQPYoXI/Cn4BAcT0K16OAf0BmZmZmZjiAQEjhehSuOYBAcT0K16NOgEApXI/C9TaAQDMzMzMzf39AMzMzMzM3gUBcj8L1KICAQI/C9Shcc35ACtejcD0WgEBcj8L1KMCAQB+F61G4UIFAUrgehetZgUAUrkfheoCAQFyPwvUoLH9ApHA9CtfXfkBI4XoUrpOAQFK4HoXrk4BArkfhehQ2gED2KFyPwn2BQArXo3A9coFAMzMzMzMzgUCPwvUoXDN+QDMzMzMzR4FArkfhehTQgED2KFyPwml+QM3MzMzMoH5A16NwPQq3f0B7FK5H4WaAQD0K16NwNX9AexSuR+Gaf0AUrkfheth/QHsUrkfhOn9ACtejcD1SgUDNzMzMzBKAQArXo3A9EoFA4XoUrkcDgUAK16NwPZp/QD0K16NwsX9APQrXo3BngEBxPQrXozCBQOF6FK5HiX9Aw/UoXI9qgUBmZmZmZn6AQMP1KFyPxn9AH4XrUbh4gEC4HoXrUQSBQB+F61G4Sn5AKVyPwvXygEDNzMzMzDKAQIXrUbgeeYBAKVyPwvXQfkDhehSuRxGAQNejcD0KP4BApHA9CtcPfkCamZmZma+AQClcj8L1DIBA16NwPQrjf0D2KFyPwu1+QLgehetRJH9A7FG4HoXvf0CamZmZmaF/QKRwPQrXfYFASOF6FK4ZgUDXo3A9Cnt/QOxRuB6FS35AFK5H4XoIf0Bcj8L1KAaAQI/C9Shcy35AZmZmZmaifkAzMzMzMzt+QOF6FK5H/YBAexSuR+EogEAK16NwPSJ/QOxRuB6FhYBAAAAAAAA0fkDXo3A9Ctd+QI/C9Shcf35ArkfhehQMgEC4HoXrUUR/QIXrUbgeuX5AZmZmZmZSgUCamZmZmY1+QM3MzMzM+oBA16NwPQqXfkCkcD0K1yeAQBSuR+F6wH9ArkfhehR2gEBI4XoUrjN+QAAAAAAAeoFArkfhehTOgECPwvUoXGN+QBSuR+F68oBAw/UoXI+AgEBmZmZmZiqAQFK4HoXrmYBAPQrXo3BrgUAUrkfhevh/QKRwPQrXm35AzczMzMx0gUBI4XoUrkuBQJqZmZmZlX9ACtejcD0GgUD2KFyPwnmAQIXrUbgeOX5ApHA9CteJgEAfhetRuCiAQOF6FK5HTX5AexSuR+EsgUDD9Shcj9aAQFK4HoXrzYBAexSuR+Gmf0CF61G4HhWAQD0K16Nw2X9ArkfhehRkgEDsUbgehQeBQBSuR+F6gH9AexSuR+F6gUBI4XoUrhmAQI/C9ShcvYBAUrgehesjgUApXI/C9QKAQEjhehSue39ApHA9CtdNgEDsUbgehcGAQFyPwvUoPH5AcT0K16NggED2KFyPwk2AQHE9CtejlH9AFK5H4XoggEDhehSuR2OBQHsUrkfh6n9A4XoUrkczgUDsUbgeheuAQOF6FK5HPYBAcT0K16MogEAAAAAAAGR+QHE9CtejAIFAZmZmZmbMgEDD9Shcj1p/QGZmZmZmin9AuB6F61Gof0A=",
            "dtype": "f8"
           }
          },
          {
           "axis": {
            "matches": true
           },
           "label": "Reactor_Pressure",
           "values": {
            "bdata": "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",
            "dtype": "f8"
           }
          },
          {
           "axis": {
            "matches": true
           },
           "label": "Regenerator_Temperature",
           "values": {
            "bdata": "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",
            "dtype": "f8"
           }
          }
         ],
         "hovertemplate": "%{xaxis.title.text}=%{x}<br>%{yaxis.title.text}=%{y}<extra></extra>",
         "legendgroup": "",
         "marker": {
          "color": "#636efa",
          "symbol": "circle"
         },
         "name": "",
         "showlegend": false,
         "type": "splom"
        }
       ],
       "layout": {
        "dragmode": "select",
        "legend": {
         "tracegroupgap": 0
        },
        "margin": {
         "t": 60
        },
        "template": {
         "data": {
          "bar": [
           {
            "error_x": {
             "color": "#2a3f5f"
            },
            "error_y": {
             "color": "#2a3f5f"
            },
            "marker": {
             "line": {
              "color": "#E5ECF6",
              "width": 0.5
             },
             "pattern": {
              "fillmode": "overlay",
              "size": 10,
              "solidity": 0.2
             }
            },
            "type": "bar"
           }
          ],
          "barpolar": [
           {
            "marker": {
             "line": {
              "color": "#E5ECF6",
              "width": 0.5
             },
             "pattern": {
              "fillmode": "overlay",
              "size": 10,
              "solidity": 0.2
             }
            },
            "type": "barpolar"
           }
          ],
          "carpet": [
           {
            "aaxis": {
             "endlinecolor": "#2a3f5f",
             "gridcolor": "white",
             "linecolor": "white",
             "minorgridcolor": "white",
             "startlinecolor": "#2a3f5f"
            },
            "baxis": {
             "endlinecolor": "#2a3f5f",
             "gridcolor": "white",
             "linecolor": "white",
             "minorgridcolor": "white",
             "startlinecolor": "#2a3f5f"
            },
            "type": "carpet"
           }
          ],
          "choropleth": [
           {
            "colorbar": {
             "outlinewidth": 0,
             "ticks": ""
            },
            "type": "choropleth"
           }
          ],
          "contour": [
           {
            "colorbar": {
             "outlinewidth": 0,
             "ticks": ""
            },
            "colorscale": [
             [
              0,
              "#0d0887"
             ],
             [
              0.1111111111111111,
              "#46039f"
             ],
             [
              0.2222222222222222,
              "#7201a8"
             ],
             [
              0.3333333333333333,
              "#9c179e"
             ],
             [
              0.4444444444444444,
              "#bd3786"
             ],
             [
              0.5555555555555556,
              "#d8576b"
             ],
             [
              0.6666666666666666,
              "#ed7953"
             ],
             [
              0.7777777777777778,
              "#fb9f3a"
             ],
             [
              0.8888888888888888,
              "#fdca26"
             ],
             [
              1,
              "#f0f921"
             ]
            ],
            "type": "contour"
           }
          ],
          "contourcarpet": [
           {
            "colorbar": {
             "outlinewidth": 0,
             "ticks": ""
            },
            "type": "contourcarpet"
           }
          ],
          "heatmap": [
           {
            "colorbar": {
             "outlinewidth": 0,
             "ticks": ""
            },
            "colorscale": [
             [
              0,
              "#0d0887"
             ],
             [
              0.1111111111111111,
              "#46039f"
             ],
             [
              0.2222222222222222,
              "#7201a8"
             ],
             [
              0.3333333333333333,
              "#9c179e"
             ],
             [
              0.4444444444444444,
              "#bd3786"
             ],
             [
              0.5555555555555556,
              "#d8576b"
             ],
             [
              0.6666666666666666,
              "#ed7953"
             ],
             [
              0.7777777777777778,
              "#fb9f3a"
             ],
             [
              0.8888888888888888,
              "#fdca26"
             ],
             [
              1,
              "#f0f921"
             ]
            ],
            "type": "heatmap"
           }
          ],
          "histogram": [
           {
            "marker": {
             "pattern": {
              "fillmode": "overlay",
              "size": 10,
              "solidity": 0.2
             }
            },
            "type": "histogram"
           }
          ],
          "histogram2d": [
           {
            "colorbar": {
             "outlinewidth": 0,
             "ticks": ""
            },
            "colorscale": [
             [
              0,
              "#0d0887"
             ],
             [
              0.1111111111111111,
              "#46039f"
             ],
             [
              0.2222222222222222,
              "#7201a8"
             ],
             [
              0.3333333333333333,
              "#9c179e"
             ],
             [
              0.4444444444444444,
              "#bd3786"
             ],
             [
              0.5555555555555556,
              "#d8576b"
             ],
             [
              0.6666666666666666,
              "#ed7953"
             ],
             [
              0.7777777777777778,
              "#fb9f3a"
             ],
             [
              0.8888888888888888,
              "#fdca26"
             ],
             [
              1,
              "#f0f921"
             ]
            ],
            "type": "histogram2d"
           }
          ],
          "histogram2dcontour": [
           {
            "colorbar": {
             "outlinewidth": 0,
             "ticks": ""
            },
            "colorscale": [
             [
              0,
              "#0d0887"
             ],
             [
              0.1111111111111111,
              "#46039f"
             ],
             [
              0.2222222222222222,
              "#7201a8"
             ],
             [
              0.3333333333333333,
              "#9c179e"
             ],
             [
              0.4444444444444444,
              "#bd3786"
             ],
             [
              0.5555555555555556,
              "#d8576b"
             ],
             [
              0.6666666666666666,
              "#ed7953"
             ],
             [
              0.7777777777777778,
              "#fb9f3a"
             ],
             [
              0.8888888888888888,
              "#fdca26"
             ],
             [
              1,
              "#f0f921"
             ]
            ],
            "type": "histogram2dcontour"
           }
          ],
          "mesh3d": [
           {
            "colorbar": {
             "outlinewidth": 0,
             "ticks": ""
            },
            "type": "mesh3d"
           }
          ],
          "parcoords": [
           {
            "line": {
             "colorbar": {
              "outlinewidth": 0,
              "ticks": ""
             }
            },
            "type": "parcoords"
           }
          ],
          "pie": [
           {
            "automargin": true,
            "type": "pie"
           }
          ],
          "scatter": [
           {
            "fillpattern": {
             "fillmode": "overlay",
             "size": 10,
             "solidity": 0.2
            },
            "type": "scatter"
           }
          ],
          "scatter3d": [
           {
            "line": {
             "colorbar": {
              "outlinewidth": 0,
              "ticks": ""
             }
            },
            "marker": {
             "colorbar": {
              "outlinewidth": 0,
              "ticks": ""
             }
            },
            "type": "scatter3d"
           }
          ],
          "scattercarpet": [
           {
            "marker": {
             "colorbar": {
              "outlinewidth": 0,
              "ticks": ""
             }
            },
            "type": "scattercarpet"
           }
          ],
          "scattergeo": [
           {
            "marker": {
             "colorbar": {
              "outlinewidth": 0,
              "ticks": ""
             }
            },
            "type": "scattergeo"
           }
          ],
          "scattergl": [
           {
            "marker": {
             "colorbar": {
              "outlinewidth": 0,
              "ticks": ""
             }
            },
            "type": "scattergl"
           }
          ],
          "scattermap": [
           {
            "marker": {
             "colorbar": {
              "outlinewidth": 0,
              "ticks": ""
             }
            },
            "type": "scattermap"
           }
          ],
          "scattermapbox": [
           {
            "marker": {
             "colorbar": {
              "outlinewidth": 0,
              "ticks": ""
             }
            },
            "type": "scattermapbox"
           }
          ],
          "scatterpolar": [
           {
            "marker": {
             "colorbar": {
              "outlinewidth": 0,
              "ticks": ""
             }
            },
            "type": "scatterpolar"
           }
          ],
          "scatterpolargl": [
           {
            "marker": {
             "colorbar": {
              "outlinewidth": 0,
              "ticks": ""
             }
            },
            "type": "scatterpolargl"
           }
          ],
          "scatterternary": [
           {
            "marker": {
             "colorbar": {
              "outlinewidth": 0,
              "ticks": ""
             }
            },
            "type": "scatterternary"
           }
          ],
          "surface": [
           {
            "colorbar": {
             "outlinewidth": 0,
             "ticks": ""
            },
            "colorscale": [
             [
              0,
              "#0d0887"
             ],
             [
              0.1111111111111111,
              "#46039f"
             ],
             [
              0.2222222222222222,
              "#7201a8"
             ],
             [
              0.3333333333333333,
              "#9c179e"
             ],
             [
              0.4444444444444444,
              "#bd3786"
             ],
             [
              0.5555555555555556,
              "#d8576b"
             ],
             [
              0.6666666666666666,
              "#ed7953"
             ],
             [
              0.7777777777777778,
              "#fb9f3a"
             ],
             [
              0.8888888888888888,
              "#fdca26"
             ],
             [
              1,
              "#f0f921"
             ]
            ],
            "type": "surface"
           }
          ],
          "table": [
           {
            "cells": {
             "fill": {
              "color": "#EBF0F8"
             },
             "line": {
              "color": "white"
             }
            },
            "header": {
             "fill": {
              "color": "#C8D4E3"
             },
             "line": {
              "color": "white"
             }
            },
            "type": "table"
           }
          ]
         },
         "layout": {
          "annotationdefaults": {
           "arrowcolor": "#2a3f5f",
           "arrowhead": 0,
           "arrowwidth": 1
          },
          "autotypenumbers": "strict",
          "coloraxis": {
           "colorbar": {
            "outlinewidth": 0,
            "ticks": ""
           }
          },
          "colorscale": {
           "diverging": [
            [
             0,
             "#8e0152"
            ],
            [
             0.1,
             "#c51b7d"
            ],
            [
             0.2,
             "#de77ae"
            ],
            [
             0.3,
             "#f1b6da"
            ],
            [
             0.4,
             "#fde0ef"
            ],
            [
             0.5,
             "#f7f7f7"
            ],
            [
             0.6,
             "#e6f5d0"
            ],
            [
             0.7,
             "#b8e186"
            ],
            [
             0.8,
             "#7fbc41"
            ],
            [
             0.9,
             "#4d9221"
            ],
            [
             1,
             "#276419"
            ]
           ],
           "sequential": [
            [
             0,
             "#0d0887"
            ],
            [
             0.1111111111111111,
             "#46039f"
            ],
            [
             0.2222222222222222,
             "#7201a8"
            ],
            [
             0.3333333333333333,
             "#9c179e"
            ],
            [
             0.4444444444444444,
             "#bd3786"
            ],
            [
             0.5555555555555556,
             "#d8576b"
            ],
            [
             0.6666666666666666,
             "#ed7953"
            ],
            [
             0.7777777777777778,
             "#fb9f3a"
            ],
            [
             0.8888888888888888,
             "#fdca26"
            ],
            [
             1,
             "#f0f921"
            ]
           ],
           "sequentialminus": [
            [
             0,
             "#0d0887"
            ],
            [
             0.1111111111111111,
             "#46039f"
            ],
            [
             0.2222222222222222,
             "#7201a8"
            ],
            [
             0.3333333333333333,
             "#9c179e"
            ],
            [
             0.4444444444444444,
             "#bd3786"
            ],
            [
             0.5555555555555556,
             "#d8576b"
            ],
            [
             0.6666666666666666,
             "#ed7953"
            ],
            [
             0.7777777777777778,
             "#fb9f3a"
            ],
            [
             0.8888888888888888,
             "#fdca26"
            ],
            [
             1,
             "#f0f921"
            ]
           ]
          },
          "colorway": [
           "#636efa",
           "#EF553B",
           "#00cc96",
           "#ab63fa",
           "#FFA15A",
           "#19d3f3",
           "#FF6692",
           "#B6E880",
           "#FF97FF",
           "#FECB52"
          ],
          "font": {
           "color": "#2a3f5f"
          },
          "geo": {
           "bgcolor": "white",
           "lakecolor": "white",
           "landcolor": "#E5ECF6",
           "showlakes": true,
           "showland": true,
           "subunitcolor": "white"
          },
          "hoverlabel": {
           "align": "left"
          },
          "hovermode": "closest",
          "mapbox": {
           "style": "light"
          },
          "paper_bgcolor": "white",
          "plot_bgcolor": "#E5ECF6",
          "polar": {
           "angularaxis": {
            "gridcolor": "white",
            "linecolor": "white",
            "ticks": ""
           },
           "bgcolor": "#E5ECF6",
           "radialaxis": {
            "gridcolor": "white",
            "linecolor": "white",
            "ticks": ""
           }
          },
          "scene": {
           "xaxis": {
            "backgroundcolor": "#E5ECF6",
            "gridcolor": "white",
            "gridwidth": 2,
            "linecolor": "white",
            "showbackground": true,
            "ticks": "",
            "zerolinecolor": "white"
           },
           "yaxis": {
            "backgroundcolor": "#E5ECF6",
            "gridcolor": "white",
            "gridwidth": 2,
            "linecolor": "white",
            "showbackground": true,
            "ticks": "",
            "zerolinecolor": "white"
           },
           "zaxis": {
            "backgroundcolor": "#E5ECF6",
            "gridcolor": "white",
            "gridwidth": 2,
            "linecolor": "white",
            "showbackground": true,
            "ticks": "",
            "zerolinecolor": "white"
           }
          },
          "shapedefaults": {
           "line": {
            "color": "#2a3f5f"
           }
          },
          "ternary": {
           "aaxis": {
            "gridcolor": "white",
            "linecolor": "white",
            "ticks": ""
           },
           "baxis": {
            "gridcolor": "white",
            "linecolor": "white",
            "ticks": ""
           },
           "bgcolor": "#E5ECF6",
           "caxis": {
            "gridcolor": "white",
            "linecolor": "white",
            "ticks": ""
           }
          },
          "title": {
           "x": 0.05
          },
          "xaxis": {
           "automargin": true,
           "gridcolor": "white",
           "linecolor": "white",
           "ticks": "",
           "title": {
            "standoff": 15
           },
           "zerolinecolor": "white",
           "zerolinewidth": 2
          },
          "yaxis": {
           "automargin": true,
           "gridcolor": "white",
           "linecolor": "white",
           "ticks": "",
           "title": {
            "standoff": 15
           },
           "zerolinecolor": "white",
           "zerolinewidth": 2
          }
         }
        }
       }
      }
     },
     "metadata": {},
     "output_type": "display_data"
    }
   ],
   "source": [
    "px.scatter_matrix(\n",
    "    df,\n",
    "    dimensions=[\n",
    "        \"Conversion_Rate\",\n",
    "        \"Reactor_Temperature\",\n",
    "        \"Reactor_Pressure\",\n",
    "        \"Regenerator_Temperature\",\n",
    "    ],\n",
    ")"
   ]
  },
  {
   "cell_type": "markdown",
   "metadata": {
    "id": "dEWUCBVf_fKw"
   },
   "source": [
    "As we can see from the scatter plots, the same value of conversion rate may correspond to many combinations of reactor parameters, which means that relations between the features of the dataset are complex."
   ]
  },
  {
   "cell_type": "code",
   "execution_count": 10,
   "metadata": {
    "colab": {
     "base_uri": "https://localhost:8080/",
     "height": 542
    },
    "id": "C7SJW5mw_yu_",
    "outputId": "1a3953ec-b33b-420b-af30-a060c97b7446"
   },
   "outputs": [
    {
     "data": {
      "application/vnd.plotly.v1+json": {
       "config": {
        "plotlyServerURL": "https://plot.ly"
       },
       "data": [
        {
         "dimensions": [
          {
           "axis": {
            "matches": true
           },
           "label": "Energy_Consumption",
           "values": {
            "bdata": "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",
            "dtype": "f8"
           }
          },
          {
           "axis": {
            "matches": true
           },
           "label": "Reactor_Temperature",
           "values": {
            "bdata": "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",
            "dtype": "f8"
           }
          },
          {
           "axis": {
            "matches": true
           },
           "label": "Reactor_Pressure",
           "values": {
            "bdata": "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",
            "dtype": "f8"
           }
          },
          {
           "axis": {
            "matches": true
           },
           "label": "Regenerator_Temperature",
           "values": {
            "bdata": "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",
            "dtype": "f8"
           }
          }
         ],
         "hovertemplate": "%{xaxis.title.text}=%{x}<br>%{yaxis.title.text}=%{y}<extra></extra>",
         "legendgroup": "",
         "marker": {
          "color": "#636efa",
          "symbol": "circle"
         },
         "name": "",
         "showlegend": false,
         "type": "splom"
        }
       ],
       "layout": {
        "dragmode": "select",
        "legend": {
         "tracegroupgap": 0
        },
        "margin": {
         "t": 60
        },
        "template": {
         "data": {
          "bar": [
           {
            "error_x": {
             "color": "#2a3f5f"
            },
            "error_y": {
             "color": "#2a3f5f"
            },
            "marker": {
             "line": {
              "color": "#E5ECF6",
              "width": 0.5
             },
             "pattern": {
              "fillmode": "overlay",
              "size": 10,
              "solidity": 0.2
             }
            },
            "type": "bar"
           }
          ],
          "barpolar": [
           {
            "marker": {
             "line": {
              "color": "#E5ECF6",
              "width": 0.5
             },
             "pattern": {
              "fillmode": "overlay",
              "size": 10,
              "solidity": 0.2
             }
            },
            "type": "barpolar"
           }
          ],
          "carpet": [
           {
            "aaxis": {
             "endlinecolor": "#2a3f5f",
             "gridcolor": "white",
             "linecolor": "white",
             "minorgridcolor": "white",
             "startlinecolor": "#2a3f5f"
            },
            "baxis": {
             "endlinecolor": "#2a3f5f",
             "gridcolor": "white",
             "linecolor": "white",
             "minorgridcolor": "white",
             "startlinecolor": "#2a3f5f"
            },
            "type": "carpet"
           }
          ],
          "choropleth": [
           {
            "colorbar": {
             "outlinewidth": 0,
             "ticks": ""
            },
            "type": "choropleth"
           }
          ],
          "contour": [
           {
            "colorbar": {
             "outlinewidth": 0,
             "ticks": ""
            },
            "colorscale": [
             [
              0,
              "#0d0887"
             ],
             [
              0.1111111111111111,
              "#46039f"
             ],
             [
              0.2222222222222222,
              "#7201a8"
             ],
             [
              0.3333333333333333,
              "#9c179e"
             ],
             [
              0.4444444444444444,
              "#bd3786"
             ],
             [
              0.5555555555555556,
              "#d8576b"
             ],
             [
              0.6666666666666666,
              "#ed7953"
             ],
             [
              0.7777777777777778,
              "#fb9f3a"
             ],
             [
              0.8888888888888888,
              "#fdca26"
             ],
             [
              1,
              "#f0f921"
             ]
            ],
            "type": "contour"
           }
          ],
          "contourcarpet": [
           {
            "colorbar": {
             "outlinewidth": 0,
             "ticks": ""
            },
            "type": "contourcarpet"
           }
          ],
          "heatmap": [
           {
            "colorbar": {
             "outlinewidth": 0,
             "ticks": ""
            },
            "colorscale": [
             [
              0,
              "#0d0887"
             ],
             [
              0.1111111111111111,
              "#46039f"
             ],
             [
              0.2222222222222222,
              "#7201a8"
             ],
             [
              0.3333333333333333,
              "#9c179e"
             ],
             [
              0.4444444444444444,
              "#bd3786"
             ],
             [
              0.5555555555555556,
              "#d8576b"
             ],
             [
              0.6666666666666666,
              "#ed7953"
             ],
             [
              0.7777777777777778,
              "#fb9f3a"
             ],
             [
              0.8888888888888888,
              "#fdca26"
             ],
             [
              1,
              "#f0f921"
             ]
            ],
            "type": "heatmap"
           }
          ],
          "histogram": [
           {
            "marker": {
             "pattern": {
              "fillmode": "overlay",
              "size": 10,
              "solidity": 0.2
             }
            },
            "type": "histogram"
           }
          ],
          "histogram2d": [
           {
            "colorbar": {
             "outlinewidth": 0,
             "ticks": ""
            },
            "colorscale": [
             [
              0,
              "#0d0887"
             ],
             [
              0.1111111111111111,
              "#46039f"
             ],
             [
              0.2222222222222222,
              "#7201a8"
             ],
             [
              0.3333333333333333,
              "#9c179e"
             ],
             [
              0.4444444444444444,
              "#bd3786"
             ],
             [
              0.5555555555555556,
              "#d8576b"
             ],
             [
              0.6666666666666666,
              "#ed7953"
             ],
             [
              0.7777777777777778,
              "#fb9f3a"
             ],
             [
              0.8888888888888888,
              "#fdca26"
             ],
             [
              1,
              "#f0f921"
             ]
            ],
            "type": "histogram2d"
           }
          ],
          "histogram2dcontour": [
           {
            "colorbar": {
             "outlinewidth": 0,
             "ticks": ""
            },
            "colorscale": [
             [
              0,
              "#0d0887"
             ],
             [
              0.1111111111111111,
              "#46039f"
             ],
             [
              0.2222222222222222,
              "#7201a8"
             ],
             [
              0.3333333333333333,
              "#9c179e"
             ],
             [
              0.4444444444444444,
              "#bd3786"
             ],
             [
              0.5555555555555556,
              "#d8576b"
             ],
             [
              0.6666666666666666,
              "#ed7953"
             ],
             [
              0.7777777777777778,
              "#fb9f3a"
             ],
             [
              0.8888888888888888,
              "#fdca26"
             ],
             [
              1,
              "#f0f921"
             ]
            ],
            "type": "histogram2dcontour"
           }
          ],
          "mesh3d": [
           {
            "colorbar": {
             "outlinewidth": 0,
             "ticks": ""
            },
            "type": "mesh3d"
           }
          ],
          "parcoords": [
           {
            "line": {
             "colorbar": {
              "outlinewidth": 0,
              "ticks": ""
             }
            },
            "type": "parcoords"
           }
          ],
          "pie": [
           {
            "automargin": true,
            "type": "pie"
           }
          ],
          "scatter": [
           {
            "fillpattern": {
             "fillmode": "overlay",
             "size": 10,
             "solidity": 0.2
            },
            "type": "scatter"
           }
          ],
          "scatter3d": [
           {
            "line": {
             "colorbar": {
              "outlinewidth": 0,
              "ticks": ""
             }
            },
            "marker": {
             "colorbar": {
              "outlinewidth": 0,
              "ticks": ""
             }
            },
            "type": "scatter3d"
           }
          ],
          "scattercarpet": [
           {
            "marker": {
             "colorbar": {
              "outlinewidth": 0,
              "ticks": ""
             }
            },
            "type": "scattercarpet"
           }
          ],
          "scattergeo": [
           {
            "marker": {
             "colorbar": {
              "outlinewidth": 0,
              "ticks": ""
             }
            },
            "type": "scattergeo"
           }
          ],
          "scattergl": [
           {
            "marker": {
             "colorbar": {
              "outlinewidth": 0,
              "ticks": ""
             }
            },
            "type": "scattergl"
           }
          ],
          "scattermap": [
           {
            "marker": {
             "colorbar": {
              "outlinewidth": 0,
              "ticks": ""
             }
            },
            "type": "scattermap"
           }
          ],
          "scattermapbox": [
           {
            "marker": {
             "colorbar": {
              "outlinewidth": 0,
              "ticks": ""
             }
            },
            "type": "scattermapbox"
           }
          ],
          "scatterpolar": [
           {
            "marker": {
             "colorbar": {
              "outlinewidth": 0,
              "ticks": ""
             }
            },
            "type": "scatterpolar"
           }
          ],
          "scatterpolargl": [
           {
            "marker": {
             "colorbar": {
              "outlinewidth": 0,
              "ticks": ""
             }
            },
            "type": "scatterpolargl"
           }
          ],
          "scatterternary": [
           {
            "marker": {
             "colorbar": {
              "outlinewidth": 0,
              "ticks": ""
             }
            },
            "type": "scatterternary"
           }
          ],
          "surface": [
           {
            "colorbar": {
             "outlinewidth": 0,
             "ticks": ""
            },
            "colorscale": [
             [
              0,
              "#0d0887"
             ],
             [
              0.1111111111111111,
              "#46039f"
             ],
             [
              0.2222222222222222,
              "#7201a8"
             ],
             [
              0.3333333333333333,
              "#9c179e"
             ],
             [
              0.4444444444444444,
              "#bd3786"
             ],
             [
              0.5555555555555556,
              "#d8576b"
             ],
             [
              0.6666666666666666,
              "#ed7953"
             ],
             [
              0.7777777777777778,
              "#fb9f3a"
             ],
             [
              0.8888888888888888,
              "#fdca26"
             ],
             [
              1,
              "#f0f921"
             ]
            ],
            "type": "surface"
           }
          ],
          "table": [
           {
            "cells": {
             "fill": {
              "color": "#EBF0F8"
             },
             "line": {
              "color": "white"
             }
            },
            "header": {
             "fill": {
              "color": "#C8D4E3"
             },
             "line": {
              "color": "white"
             }
            },
            "type": "table"
           }
          ]
         },
         "layout": {
          "annotationdefaults": {
           "arrowcolor": "#2a3f5f",
           "arrowhead": 0,
           "arrowwidth": 1
          },
          "autotypenumbers": "strict",
          "coloraxis": {
           "colorbar": {
            "outlinewidth": 0,
            "ticks": ""
           }
          },
          "colorscale": {
           "diverging": [
            [
             0,
             "#8e0152"
            ],
            [
             0.1,
             "#c51b7d"
            ],
            [
             0.2,
             "#de77ae"
            ],
            [
             0.3,
             "#f1b6da"
            ],
            [
             0.4,
             "#fde0ef"
            ],
            [
             0.5,
             "#f7f7f7"
            ],
            [
             0.6,
             "#e6f5d0"
            ],
            [
             0.7,
             "#b8e186"
            ],
            [
             0.8,
             "#7fbc41"
            ],
            [
             0.9,
             "#4d9221"
            ],
            [
             1,
             "#276419"
            ]
           ],
           "sequential": [
            [
             0,
             "#0d0887"
            ],
            [
             0.1111111111111111,
             "#46039f"
            ],
            [
             0.2222222222222222,
             "#7201a8"
            ],
            [
             0.3333333333333333,
             "#9c179e"
            ],
            [
             0.4444444444444444,
             "#bd3786"
            ],
            [
             0.5555555555555556,
             "#d8576b"
            ],
            [
             0.6666666666666666,
             "#ed7953"
            ],
            [
             0.7777777777777778,
             "#fb9f3a"
            ],
            [
             0.8888888888888888,
             "#fdca26"
            ],
            [
             1,
             "#f0f921"
            ]
           ],
           "sequentialminus": [
            [
             0,
             "#0d0887"
            ],
            [
             0.1111111111111111,
             "#46039f"
            ],
            [
             0.2222222222222222,
             "#7201a8"
            ],
            [
             0.3333333333333333,
             "#9c179e"
            ],
            [
             0.4444444444444444,
             "#bd3786"
            ],
            [
             0.5555555555555556,
             "#d8576b"
            ],
            [
             0.6666666666666666,
             "#ed7953"
            ],
            [
             0.7777777777777778,
             "#fb9f3a"
            ],
            [
             0.8888888888888888,
             "#fdca26"
            ],
            [
             1,
             "#f0f921"
            ]
           ]
          },
          "colorway": [
           "#636efa",
           "#EF553B",
           "#00cc96",
           "#ab63fa",
           "#FFA15A",
           "#19d3f3",
           "#FF6692",
           "#B6E880",
           "#FF97FF",
           "#FECB52"
          ],
          "font": {
           "color": "#2a3f5f"
          },
          "geo": {
           "bgcolor": "white",
           "lakecolor": "white",
           "landcolor": "#E5ECF6",
           "showlakes": true,
           "showland": true,
           "subunitcolor": "white"
          },
          "hoverlabel": {
           "align": "left"
          },
          "hovermode": "closest",
          "mapbox": {
           "style": "light"
          },
          "paper_bgcolor": "white",
          "plot_bgcolor": "#E5ECF6",
          "polar": {
           "angularaxis": {
            "gridcolor": "white",
            "linecolor": "white",
            "ticks": ""
           },
           "bgcolor": "#E5ECF6",
           "radialaxis": {
            "gridcolor": "white",
            "linecolor": "white",
            "ticks": ""
           }
          },
          "scene": {
           "xaxis": {
            "backgroundcolor": "#E5ECF6",
            "gridcolor": "white",
            "gridwidth": 2,
            "linecolor": "white",
            "showbackground": true,
            "ticks": "",
            "zerolinecolor": "white"
           },
           "yaxis": {
            "backgroundcolor": "#E5ECF6",
            "gridcolor": "white",
            "gridwidth": 2,
            "linecolor": "white",
            "showbackground": true,
            "ticks": "",
            "zerolinecolor": "white"
           },
           "zaxis": {
            "backgroundcolor": "#E5ECF6",
            "gridcolor": "white",
            "gridwidth": 2,
            "linecolor": "white",
            "showbackground": true,
            "ticks": "",
            "zerolinecolor": "white"
           }
          },
          "shapedefaults": {
           "line": {
            "color": "#2a3f5f"
           }
          },
          "ternary": {
           "aaxis": {
            "gridcolor": "white",
            "linecolor": "white",
            "ticks": ""
           },
           "baxis": {
            "gridcolor": "white",
            "linecolor": "white",
            "ticks": ""
           },
           "bgcolor": "#E5ECF6",
           "caxis": {
            "gridcolor": "white",
            "linecolor": "white",
            "ticks": ""
           }
          },
          "title": {
           "x": 0.05
          },
          "xaxis": {
           "automargin": true,
           "gridcolor": "white",
           "linecolor": "white",
           "ticks": "",
           "title": {
            "standoff": 15
           },
           "zerolinecolor": "white",
           "zerolinewidth": 2
          },
          "yaxis": {
           "automargin": true,
           "gridcolor": "white",
           "linecolor": "white",
           "ticks": "",
           "title": {
            "standoff": 15
           },
           "zerolinecolor": "white",
           "zerolinewidth": 2
          }
         }
        }
       }
      }
     },
     "metadata": {},
     "output_type": "display_data"
    }
   ],
   "source": [
    "px.scatter_matrix(\n",
    "    df,\n",
    "    dimensions=[\n",
    "        \"Energy_Consumption\",\n",
    "        \"Reactor_Temperature\",\n",
    "        \"Reactor_Pressure\",\n",
    "        \"Regenerator_Temperature\",\n",
    "    ],\n",
    ")"
   ]
  },
  {
   "cell_type": "markdown",
   "metadata": {
    "id": "vp36aq_Z_5Jk"
   },
   "source": [
    "The same can be seen for energy consumption."
   ]
  },
  {
   "cell_type": "code",
   "execution_count": 11,
   "metadata": {
    "colab": {
     "base_uri": "https://localhost:8080/",
     "height": 542
    },
    "id": "dZNOe2jD_8it",
    "outputId": "0bc43140-5d31-4ec7-a7ae-3dcf852b47ab"
   },
   "outputs": [
    {
     "data": {
      "application/vnd.plotly.v1+json": {
       "config": {
        "plotlyServerURL": "https://plot.ly"
       },
       "data": [
        {
         "dimensions": [
          {
           "axis": {
            "matches": true
           },
           "label": "Energy_Consumption",
           "values": {
            "bdata": "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",
            "dtype": "f8"
           }
          },
          {
           "axis": {
            "matches": true
           },
           "label": "Conversion_Rate",
           "values": {
            "bdata": "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",
            "dtype": "f8"
           }
          }
         ],
         "hovertemplate": "%{xaxis.title.text}=%{x}<br>%{yaxis.title.text}=%{y}<extra></extra>",
         "legendgroup": "",
         "marker": {
          "color": "#636efa",
          "symbol": "circle"
         },
         "name": "",
         "showlegend": false,
         "type": "splom"
        }
       ],
       "layout": {
        "dragmode": "select",
        "legend": {
         "tracegroupgap": 0
        },
        "margin": {
         "t": 60
        },
        "template": {
         "data": {
          "bar": [
           {
            "error_x": {
             "color": "#2a3f5f"
            },
            "error_y": {
             "color": "#2a3f5f"
            },
            "marker": {
             "line": {
              "color": "#E5ECF6",
              "width": 0.5
             },
             "pattern": {
              "fillmode": "overlay",
              "size": 10,
              "solidity": 0.2
             }
            },
            "type": "bar"
           }
          ],
          "barpolar": [
           {
            "marker": {
             "line": {
              "color": "#E5ECF6",
              "width": 0.5
             },
             "pattern": {
              "fillmode": "overlay",
              "size": 10,
              "solidity": 0.2
             }
            },
            "type": "barpolar"
           }
          ],
          "carpet": [
           {
            "aaxis": {
             "endlinecolor": "#2a3f5f",
             "gridcolor": "white",
             "linecolor": "white",
             "minorgridcolor": "white",
             "startlinecolor": "#2a3f5f"
            },
            "baxis": {
             "endlinecolor": "#2a3f5f",
             "gridcolor": "white",
             "linecolor": "white",
             "minorgridcolor": "white",
             "startlinecolor": "#2a3f5f"
            },
            "type": "carpet"
           }
          ],
          "choropleth": [
           {
            "colorbar": {
             "outlinewidth": 0,
             "ticks": ""
            },
            "type": "choropleth"
           }
          ],
          "contour": [
           {
            "colorbar": {
             "outlinewidth": 0,
             "ticks": ""
            },
            "colorscale": [
             [
              0,
              "#0d0887"
             ],
             [
              0.1111111111111111,
              "#46039f"
             ],
             [
              0.2222222222222222,
              "#7201a8"
             ],
             [
              0.3333333333333333,
              "#9c179e"
             ],
             [
              0.4444444444444444,
              "#bd3786"
             ],
             [
              0.5555555555555556,
              "#d8576b"
             ],
             [
              0.6666666666666666,
              "#ed7953"
             ],
             [
              0.7777777777777778,
              "#fb9f3a"
             ],
             [
              0.8888888888888888,
              "#fdca26"
             ],
             [
              1,
              "#f0f921"
             ]
            ],
            "type": "contour"
           }
          ],
          "contourcarpet": [
           {
            "colorbar": {
             "outlinewidth": 0,
             "ticks": ""
            },
            "type": "contourcarpet"
           }
          ],
          "heatmap": [
           {
            "colorbar": {
             "outlinewidth": 0,
             "ticks": ""
            },
            "colorscale": [
             [
              0,
              "#0d0887"
             ],
             [
              0.1111111111111111,
              "#46039f"
             ],
             [
              0.2222222222222222,
              "#7201a8"
             ],
             [
              0.3333333333333333,
              "#9c179e"
             ],
             [
              0.4444444444444444,
              "#bd3786"
             ],
             [
              0.5555555555555556,
              "#d8576b"
             ],
             [
              0.6666666666666666,
              "#ed7953"
             ],
             [
              0.7777777777777778,
              "#fb9f3a"
             ],
             [
              0.8888888888888888,
              "#fdca26"
             ],
             [
              1,
              "#f0f921"
             ]
            ],
            "type": "heatmap"
           }
          ],
          "histogram": [
           {
            "marker": {
             "pattern": {
              "fillmode": "overlay",
              "size": 10,
              "solidity": 0.2
             }
            },
            "type": "histogram"
           }
          ],
          "histogram2d": [
           {
            "colorbar": {
             "outlinewidth": 0,
             "ticks": ""
            },
            "colorscale": [
             [
              0,
              "#0d0887"
             ],
             [
              0.1111111111111111,
              "#46039f"
             ],
             [
              0.2222222222222222,
              "#7201a8"
             ],
             [
              0.3333333333333333,
              "#9c179e"
             ],
             [
              0.4444444444444444,
              "#bd3786"
             ],
             [
              0.5555555555555556,
              "#d8576b"
             ],
             [
              0.6666666666666666,
              "#ed7953"
             ],
             [
              0.7777777777777778,
              "#fb9f3a"
             ],
             [
              0.8888888888888888,
              "#fdca26"
             ],
             [
              1,
              "#f0f921"
             ]
            ],
            "type": "histogram2d"
           }
          ],
          "histogram2dcontour": [
           {
            "colorbar": {
             "outlinewidth": 0,
             "ticks": ""
            },
            "colorscale": [
             [
              0,
              "#0d0887"
             ],
             [
              0.1111111111111111,
              "#46039f"
             ],
             [
              0.2222222222222222,
              "#7201a8"
             ],
             [
              0.3333333333333333,
              "#9c179e"
             ],
             [
              0.4444444444444444,
              "#bd3786"
             ],
             [
              0.5555555555555556,
              "#d8576b"
             ],
             [
              0.6666666666666666,
              "#ed7953"
             ],
             [
              0.7777777777777778,
              "#fb9f3a"
             ],
             [
              0.8888888888888888,
              "#fdca26"
             ],
             [
              1,
              "#f0f921"
             ]
            ],
            "type": "histogram2dcontour"
           }
          ],
          "mesh3d": [
           {
            "colorbar": {
             "outlinewidth": 0,
             "ticks": ""
            },
            "type": "mesh3d"
           }
          ],
          "parcoords": [
           {
            "line": {
             "colorbar": {
              "outlinewidth": 0,
              "ticks": ""
             }
            },
            "type": "parcoords"
           }
          ],
          "pie": [
           {
            "automargin": true,
            "type": "pie"
           }
          ],
          "scatter": [
           {
            "fillpattern": {
             "fillmode": "overlay",
             "size": 10,
             "solidity": 0.2
            },
            "type": "scatter"
           }
          ],
          "scatter3d": [
           {
            "line": {
             "colorbar": {
              "outlinewidth": 0,
              "ticks": ""
             }
            },
            "marker": {
             "colorbar": {
              "outlinewidth": 0,
              "ticks": ""
             }
            },
            "type": "scatter3d"
           }
          ],
          "scattercarpet": [
           {
            "marker": {
             "colorbar": {
              "outlinewidth": 0,
              "ticks": ""
             }
            },
            "type": "scattercarpet"
           }
          ],
          "scattergeo": [
           {
            "marker": {
             "colorbar": {
              "outlinewidth": 0,
              "ticks": ""
             }
            },
            "type": "scattergeo"
           }
          ],
          "scattergl": [
           {
            "marker": {
             "colorbar": {
              "outlinewidth": 0,
              "ticks": ""
             }
            },
            "type": "scattergl"
           }
          ],
          "scattermap": [
           {
            "marker": {
             "colorbar": {
              "outlinewidth": 0,
              "ticks": ""
             }
            },
            "type": "scattermap"
           }
          ],
          "scattermapbox": [
           {
            "marker": {
             "colorbar": {
              "outlinewidth": 0,
              "ticks": ""
             }
            },
            "type": "scattermapbox"
           }
          ],
          "scatterpolar": [
           {
            "marker": {
             "colorbar": {
              "outlinewidth": 0,
              "ticks": ""
             }
            },
            "type": "scatterpolar"
           }
          ],
          "scatterpolargl": [
           {
            "marker": {
             "colorbar": {
              "outlinewidth": 0,
              "ticks": ""
             }
            },
            "type": "scatterpolargl"
           }
          ],
          "scatterternary": [
           {
            "marker": {
             "colorbar": {
              "outlinewidth": 0,
              "ticks": ""
             }
            },
            "type": "scatterternary"
           }
          ],
          "surface": [
           {
            "colorbar": {
             "outlinewidth": 0,
             "ticks": ""
            },
            "colorscale": [
             [
              0,
              "#0d0887"
             ],
             [
              0.1111111111111111,
              "#46039f"
             ],
             [
              0.2222222222222222,
              "#7201a8"
             ],
             [
              0.3333333333333333,
              "#9c179e"
             ],
             [
              0.4444444444444444,
              "#bd3786"
             ],
             [
              0.5555555555555556,
              "#d8576b"
             ],
             [
              0.6666666666666666,
              "#ed7953"
             ],
             [
              0.7777777777777778,
              "#fb9f3a"
             ],
             [
              0.8888888888888888,
              "#fdca26"
             ],
             [
              1,
              "#f0f921"
             ]
            ],
            "type": "surface"
           }
          ],
          "table": [
           {
            "cells": {
             "fill": {
              "color": "#EBF0F8"
             },
             "line": {
              "color": "white"
             }
            },
            "header": {
             "fill": {
              "color": "#C8D4E3"
             },
             "line": {
              "color": "white"
             }
            },
            "type": "table"
           }
          ]
         },
         "layout": {
          "annotationdefaults": {
           "arrowcolor": "#2a3f5f",
           "arrowhead": 0,
           "arrowwidth": 1
          },
          "autotypenumbers": "strict",
          "coloraxis": {
           "colorbar": {
            "outlinewidth": 0,
            "ticks": ""
           }
          },
          "colorscale": {
           "diverging": [
            [
             0,
             "#8e0152"
            ],
            [
             0.1,
             "#c51b7d"
            ],
            [
             0.2,
             "#de77ae"
            ],
            [
             0.3,
             "#f1b6da"
            ],
            [
             0.4,
             "#fde0ef"
            ],
            [
             0.5,
             "#f7f7f7"
            ],
            [
             0.6,
             "#e6f5d0"
            ],
            [
             0.7,
             "#b8e186"
            ],
            [
             0.8,
             "#7fbc41"
            ],
            [
             0.9,
             "#4d9221"
            ],
            [
             1,
             "#276419"
            ]
           ],
           "sequential": [
            [
             0,
             "#0d0887"
            ],
            [
             0.1111111111111111,
             "#46039f"
            ],
            [
             0.2222222222222222,
             "#7201a8"
            ],
            [
             0.3333333333333333,
             "#9c179e"
            ],
            [
             0.4444444444444444,
             "#bd3786"
            ],
            [
             0.5555555555555556,
             "#d8576b"
            ],
            [
             0.6666666666666666,
             "#ed7953"
            ],
            [
             0.7777777777777778,
             "#fb9f3a"
            ],
            [
             0.8888888888888888,
             "#fdca26"
            ],
            [
             1,
             "#f0f921"
            ]
           ],
           "sequentialminus": [
            [
             0,
             "#0d0887"
            ],
            [
             0.1111111111111111,
             "#46039f"
            ],
            [
             0.2222222222222222,
             "#7201a8"
            ],
            [
             0.3333333333333333,
             "#9c179e"
            ],
            [
             0.4444444444444444,
             "#bd3786"
            ],
            [
             0.5555555555555556,
             "#d8576b"
            ],
            [
             0.6666666666666666,
             "#ed7953"
            ],
            [
             0.7777777777777778,
             "#fb9f3a"
            ],
            [
             0.8888888888888888,
             "#fdca26"
            ],
            [
             1,
             "#f0f921"
            ]
           ]
          },
          "colorway": [
           "#636efa",
           "#EF553B",
           "#00cc96",
           "#ab63fa",
           "#FFA15A",
           "#19d3f3",
           "#FF6692",
           "#B6E880",
           "#FF97FF",
           "#FECB52"
          ],
          "font": {
           "color": "#2a3f5f"
          },
          "geo": {
           "bgcolor": "white",
           "lakecolor": "white",
           "landcolor": "#E5ECF6",
           "showlakes": true,
           "showland": true,
           "subunitcolor": "white"
          },
          "hoverlabel": {
           "align": "left"
          },
          "hovermode": "closest",
          "mapbox": {
           "style": "light"
          },
          "paper_bgcolor": "white",
          "plot_bgcolor": "#E5ECF6",
          "polar": {
           "angularaxis": {
            "gridcolor": "white",
            "linecolor": "white",
            "ticks": ""
           },
           "bgcolor": "#E5ECF6",
           "radialaxis": {
            "gridcolor": "white",
            "linecolor": "white",
            "ticks": ""
           }
          },
          "scene": {
           "xaxis": {
            "backgroundcolor": "#E5ECF6",
            "gridcolor": "white",
            "gridwidth": 2,
            "linecolor": "white",
            "showbackground": true,
            "ticks": "",
            "zerolinecolor": "white"
           },
           "yaxis": {
            "backgroundcolor": "#E5ECF6",
            "gridcolor": "white",
            "gridwidth": 2,
            "linecolor": "white",
            "showbackground": true,
            "ticks": "",
            "zerolinecolor": "white"
           },
           "zaxis": {
            "backgroundcolor": "#E5ECF6",
            "gridcolor": "white",
            "gridwidth": 2,
            "linecolor": "white",
            "showbackground": true,
            "ticks": "",
            "zerolinecolor": "white"
           }
          },
          "shapedefaults": {
           "line": {
            "color": "#2a3f5f"
           }
          },
          "ternary": {
           "aaxis": {
            "gridcolor": "white",
            "linecolor": "white",
            "ticks": ""
           },
           "baxis": {
            "gridcolor": "white",
            "linecolor": "white",
            "ticks": ""
           },
           "bgcolor": "#E5ECF6",
           "caxis": {
            "gridcolor": "white",
            "linecolor": "white",
            "ticks": ""
           }
          },
          "title": {
           "x": 0.05
          },
          "xaxis": {
           "automargin": true,
           "gridcolor": "white",
           "linecolor": "white",
           "ticks": "",
           "title": {
            "standoff": 15
           },
           "zerolinecolor": "white",
           "zerolinewidth": 2
          },
          "yaxis": {
           "automargin": true,
           "gridcolor": "white",
           "linecolor": "white",
           "ticks": "",
           "title": {
            "standoff": 15
           },
           "zerolinecolor": "white",
           "zerolinewidth": 2
          }
         }
        }
       }
      }
     },
     "metadata": {},
     "output_type": "display_data"
    }
   ],
   "source": [
    "px.scatter_matrix(df, dimensions=[\"Energy_Consumption\", \"Conversion_Rate\"])"
   ]
  },
  {
   "cell_type": "markdown",
   "metadata": {
    "id": "G_yyBfEkAFXL"
   },
   "source": [
    "There's no remotely linear relation between the conversion rate (how much of the raw oil gets converted) and the energy consumption score (how many energy the whole unit consumes). There's a lot of space to explore possible parameters to get the best ratio of these two features."
   ]
  },
  {
   "cell_type": "markdown",
   "metadata": {
    "id": "Yzms0P6yBo2l"
   },
   "source": [
    "# 5 Outliers\n",
    "\n",
    "As was mentioned earlier, no anomalies can be discerned in the data.\n",
    "\n",
    "Check for the possible outliers can be done using box plots:"
   ]
  },
  {
   "cell_type": "code",
   "execution_count": 12,
   "metadata": {
    "colab": {
     "base_uri": "https://localhost:8080/",
     "height": 444
    },
    "id": "e89552b1",
    "outputId": "b4930cb8-e763-4aa7-c3a1-e01caa95a74b"
   },
   "outputs": [
    {
     "data": {
      "image/png": "[encoded data removed]",
      "text/plain": [
       "<Figure size 1500x1000 with 23 Axes>"
      ]
     },
     "metadata": {},
     "output_type": "display_data"
    }
   ],
   "source": [
    "numeric_cols = df.select_dtypes(include=[\"number\"]).columns\n",
    "\n",
    "\n",
    "plt.figure(figsize=(15, 10))\n",
    "for i, col in enumerate(numeric_cols):\n",
    "    plt.subplot(5, 5, i + 1)\n",
    "    sns.boxplot(x=df[col])\n",
    "    plt.title(col)\n",
    "plt.tight_layout()\n",
    "plt.show()"
   ]
  },
  {
   "cell_type": "markdown",
   "metadata": {
    "id": "VpZP-d5yDJki"
   },
   "source": [
    "The only visible outlier is a single point for the Reward_Score column which is irrelevant since reward score is a manually-adjusted parameter of the PID controller."
   ]
  },
  {
   "cell_type": "markdown",
   "metadata": {
    "id": "lz8afxPg-99g"
   },
   "source": [
    "# 6 EDA metrics\n",
    "\n",
    "These metrics have been discussed already but here's the formal check of the completeness score and uniqueness:"
   ]
  },
  {
   "cell_type": "code",
   "execution_count": 13,
   "metadata": {
    "colab": {
     "base_uri": "https://localhost:8080/"
    },
    "id": "c5Ea48jd-OfH",
    "outputId": "749c9398-2756-49b7-c02a-3d90cd110adf"
   },
   "outputs": [
    {
     "name": "stdout",
     "output_type": "stream",
     "text": [
      "Completeness Score: 100.00%\n",
      "Overall Uniqueness Score for key columns: 100.00%\n"
     ]
    }
   ],
   "source": [
    "completeness = df.isnull().sum().sum() / (df.shape[0] * df.shape[1])\n",
    "completeness_score = (1 - completeness) * 100\n",
    "\n",
    "key_columns = [\"Timestamp\"]\n",
    "uniqueness_scores_keys = df[key_columns].nunique() / len(df)\n",
    "overall_uniqueness_score_keys = uniqueness_scores_keys.mean() * 100\n",
    "\n",
    "print(f\"Completeness Score: {completeness_score:.2f}%\")\n",
    "print(f\"Overall Uniqueness Score for key columns: {overall_uniqueness_score_keys:.2f}%\")"
   ]
  },
  {
   "cell_type": "markdown",
   "metadata": {
    "id": "PCZIyLGIBIP8"
   },
   "source": [
    "Reaching the recommended values for these scores didn't bring any problems since the dataset barely required any cleaning,"
   ]
  },
  {
   "cell_type": "markdown",
   "metadata": {
    "id": "INkxrN3mEMvh"
   },
   "source": [
    "# Conslusion\n",
    "\n",
    "EDA shows that the dataset is practically complete and lacks any duplicates; all missing values are limited to a single column and can be easily replaced. No pairwise correlation found between any features. No outliers detected."
   ]
  }
 ],
 "metadata": {
  "colab": {
   "provenance": [],
   "toc_visible": true
  },
  "kernelspec": {
   "display_name": "venv",
   "language": "python",
   "name": "python3"
  },
  "language_info": {
   "codemirror_mode": {
    "name": "ipython",
    "version": 3
   },
   "file_extension": ".py",
   "mimetype": "text/x-python",
   "name": "python",
   "nbconvert_exporter": "python",
   "pygments_lexer": "ipython3",
   "version": "3.13.5"
  }
 },
 "nbformat": 4,
 "nbformat_minor": 0
}
